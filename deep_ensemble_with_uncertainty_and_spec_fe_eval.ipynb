{
 "cells": [
  {
   "cell_type": "code",
   "execution_count": 135,
   "id": "177fdb80",
   "metadata": {},
   "outputs": [],
   "source": [
    "import codecs\n",
    "import copy\n",
    "import gc\n",
    "import json\n",
    "import logging\n",
    "import os\n",
    "import pickle\n",
    "import random\n",
    "import time\n",
    "from typing import List, Tuple, Union\n",
    "import xarray as xr"
   ]
  },
  {
   "cell_type": "code",
   "execution_count": 136,
   "id": "4a1922ce",
   "metadata": {},
   "outputs": [],
   "source": [
    "os.environ['TF_CPP_MIN_LOG_LEVEL'] = '2'"
   ]
  },
  {
   "cell_type": "code",
   "execution_count": 137,
   "id": "8920a50b",
   "metadata": {},
   "outputs": [],
   "source": [
    "import matplotlib.pyplot as plt\n",
    "from matplotlib.colors import Normalize\n",
    "import numpy as np\n",
    "import pandas as pd\n",
    "from sklearn.compose import ColumnTransformer\n",
    "from sklearn.decomposition import PCA\n",
    "from sklearn.feature_selection import VarianceThreshold\n",
    "from sklearn.impute import SimpleImputer\n",
    "from sklearn.metrics import mean_absolute_error, mean_squared_error\n",
    "from sklearn.metrics import median_absolute_error, r2_score\n",
    "from sklearn.model_selection import StratifiedKFold\n",
    "from sklearn.pipeline import Pipeline\n",
    "from sklearn.preprocessing import StandardScaler, MinMaxScaler\n",
    "from sklearn.preprocessing import Binarizer, KBinsDiscretizer\n",
    "import tensorflow as tf\n",
    "import tensorflow_addons as tfa\n",
    "import tensorflow_probability as tfp\n",
    "import umap"
   ]
  },
  {
   "cell_type": "code",
   "execution_count": 138,
   "id": "ab715c57",
   "metadata": {},
   "outputs": [],
   "source": [
    "from assessment import calc_uncertainty_regection_curve, f_beta_metrics\n",
    "from uncertainty import ensemble_uncertainties_regression"
   ]
  },
  {
   "cell_type": "code",
   "execution_count": 139,
   "id": "95df40bb",
   "metadata": {},
   "outputs": [
    {
     "name": "stdout",
     "output_type": "stream",
     "text": [
      "CatBoost is installed\n"
     ]
    }
   ],
   "source": [
    "try:\n",
    "    from catboost import CatBoostRegressor\n",
    "    CATBOOST_EXISTS = True\n",
    "    print('CatBoost is installed')\n",
    "except:\n",
    "    CatBoostRegressor = None\n",
    "    CATBOOST_EXISTS = False\n",
    "    print('CatBoost is NOT installed')"
   ]
  },
  {
   "cell_type": "code",
   "execution_count": 140,
   "id": "740cad7a",
   "metadata": {},
   "outputs": [],
   "source": [
    "def build_preprocessor(X: np.ndarray, colnames: List[str]) -> Pipeline:\n",
    "    X_ = Pipeline(steps=[\n",
    "        (\n",
    "            'imputer', SimpleImputer(\n",
    "                missing_values=np.nan, strategy='constant',\n",
    "                fill_value=-1.0\n",
    "            )\n",
    "        ),\n",
    "        (\n",
    "            'scaler',\n",
    "            MinMaxScaler()\n",
    "        )\n",
    "    ]).fit_transform(X)\n",
    "    X_ = np.rint(X_ * 100000.0).astype(np.int32)\n",
    "    binary_features = dict()\n",
    "    categorical_features = dict()\n",
    "    removed_features = []\n",
    "    for col_idx in range(X.shape[1]):\n",
    "        values = set(X_[:, col_idx].tolist())\n",
    "        print(f'Column {col_idx} \"{colnames[col_idx]}\" has ' \\\n",
    "              f'{len(values)} unique values.')\n",
    "        if len(values) > 1:\n",
    "            if len(values) < 3:\n",
    "                binary_features[col_idx] = np.min(X[:, col_idx])\n",
    "            else:\n",
    "                categorical_features[col_idx] = len(values)\n",
    "        else:\n",
    "            removed_features.append(col_idx)\n",
    "        del values\n",
    "    del X_\n",
    "    all_features = set(range(X.shape[1]))\n",
    "    useful_features = sorted(list(all_features - set(removed_features)))\n",
    "    if len(useful_features) == 0:\n",
    "        raise ValueError('Training inputs are bad. All features are removed.')\n",
    "    print(f'There are {X.shape[1]} features.')\n",
    "    if len(removed_features) > 0:\n",
    "        print(f'These features will be removed: ' \\\n",
    "              f'{[colnames[col_idx] for col_idx in removed_features]}.')\n",
    "    transformers = []\n",
    "    if (len(categorical_features) > 0) and (len(binary_features) > 0):\n",
    "        print(f'There are {len(categorical_features)} categorical ' \\\n",
    "              f'features and {len(binary_features)} binary features.')\n",
    "    elif len(categorical_features) > 0:\n",
    "        print(f'There are {len(categorical_features)} categorical features.')\n",
    "    else:\n",
    "        print(f'There are {len(binary_features)} binary features.')\n",
    "    for col_idx in categorical_features:\n",
    "        n_unique_values = categorical_features[col_idx]\n",
    "        transformers.append(\n",
    "            (\n",
    "                colnames[col_idx],\n",
    "                KBinsDiscretizer(\n",
    "                    n_bins=min(max(n_unique_values // 3, 3), 256),\n",
    "                    encode='ordinal',\n",
    "                    strategy=('quantile' if n_unique_values > 50 else 'kmeans')\n",
    "                ),\n",
    "                (col_idx,)\n",
    "            )\n",
    "        )\n",
    "    for col_idx in binary_features:\n",
    "        transformers.append(\n",
    "            (\n",
    "                colnames[col_idx],\n",
    "                Binarizer(threshold=0.0),\n",
    "                (col_idx,)\n",
    "            )\n",
    "        )\n",
    "    preprocessor = Pipeline(steps=[\n",
    "        (\n",
    "            'imputer', SimpleImputer(\n",
    "                missing_values=np.nan, strategy='constant',\n",
    "                fill_value=-1.0\n",
    "            )\n",
    "        ),\n",
    "        (\n",
    "            'minmax_scaler',\n",
    "            MinMaxScaler()\n",
    "        ),\n",
    "        (\n",
    "            'composite_transformer', ColumnTransformer(\n",
    "                transformers=transformers,\n",
    "                sparse_threshold=0.0,\n",
    "                n_jobs=1\n",
    "            )\n",
    "        ),\n",
    "        (\n",
    "            'selector',\n",
    "            VarianceThreshold()\n",
    "        ),\n",
    "        (\n",
    "            'standard_scaler',\n",
    "            StandardScaler(with_mean=True, with_std=True)\n",
    "        ),\n",
    "        (\n",
    "            'pca',\n",
    "            PCA(random_state=42)\n",
    "        )\n",
    "    ])\n",
    "    return preprocessor.fit(X)"
   ]
  },
  {
   "cell_type": "code",
   "execution_count": 141,
   "id": "7c14606d",
   "metadata": {},
   "outputs": [],
   "source": [
    "def reduce_dimensions_of_data(features: np.ndarray) -> np.ndarray:\n",
    "    preprocessed_features = Pipeline(\n",
    "        steps=[\n",
    "            ('scaler', StandardScaler()),\n",
    "            ('pca', PCA(n_components=features.shape[1] // 3,\n",
    "                        random_state=42))\n",
    "        ]\n",
    "    ).fit_transform(features)\n",
    "    print('Features are preprocessed.')\n",
    "    reduced_features = umap.UMAP(\n",
    "        low_memory=False,\n",
    "        n_jobs=-1,\n",
    "        random_state=42,\n",
    "        verbose=True\n",
    "    ).fit_transform(preprocessed_features)\n",
    "    print('Feature space is reduced.')\n",
    "    del preprocessed_features\n",
    "    return reduced_features"
   ]
  },
  {
   "cell_type": "code",
   "execution_count": 142,
   "id": "4320c5db",
   "metadata": {},
   "outputs": [],
   "source": [
    "def show_temperature(features: np.ndarray, targets: np.ndarray,\n",
    "                     title: str='', figure_id: int=0):\n",
    "    if features.shape[0] != targets.shape[0]:\n",
    "        err_msg = f'Features do not correspond to targets! ' \\\n",
    "                  f'{features.shape[0]} != {targets.shape[0]}'\n",
    "        raise ValueError(err_msg)\n",
    "    if len(features.shape) != 2:\n",
    "        err_msg = f'Features are wrong! Expected 2-D array, got ' \\\n",
    "                  f'{len(features.shape)}-D one.'\n",
    "        raise ValueError(err_msg)\n",
    "    if features.shape[1] != 2:\n",
    "        err_msg = f'Features are wrong! Expected number of ' \\\n",
    "                  f'columns is 2, got {features.shape[1]}.'\n",
    "        raise ValueError(err_msg)\n",
    "    if len(targets.shape) != 1:\n",
    "        err_msg = f'Targets are wrong! Expected 1-D array, got ' \\\n",
    "                  f'{len(targets.shape)}-D one.'\n",
    "        raise ValueError(err_msg)\n",
    "    sorted_targets = sorted(targets.tolist())\n",
    "    n_percentile2 = max(int(round(0.01 * len(sorted_targets))), 1)\n",
    "    min_target = sorted_targets[n_percentile2]\n",
    "    max_target = sorted_targets[-n_percentile2]\n",
    "    del sorted_targets\n",
    "    clipped_targets = np.empty(targets.shape, dtype=np.float64)\n",
    "    for sample_idx in range(targets.shape[0]):\n",
    "        if targets[sample_idx] < min_target:\n",
    "            clipped_targets[sample_idx] = min_target\n",
    "        elif targets[sample_idx] > max_target:\n",
    "            clipped_targets[sample_idx] = max_target\n",
    "        else:\n",
    "            clipped_targets[sample_idx] = targets[sample_idx]\n",
    "    temperature_colors = clipped_targets.tolist()\n",
    "    temperature_norm = Normalize(vmin=np.min(temperature_colors),\n",
    "                                 vmax=np.max(temperature_colors))\n",
    "    fig = plt.figure(figure_id, figsize=(11, 11))\n",
    "    plt.scatter(x=features[:, 0], y=features[:, 1],\n",
    "                marker='o', cmap=plt.cm.get_cmap(\"jet\"), c=temperature_colors,\n",
    "                norm=temperature_norm)\n",
    "    if len(title) > 0:\n",
    "        plt.title(f'UMAP projections of weather data {title} (temperature)')\n",
    "    else:\n",
    "        plt.title(f'UMAP projections of weather data (temperature)')\n",
    "    plt.colorbar()\n",
    "    plt.show()"
   ]
  },
  {
   "cell_type": "code",
   "execution_count": 143,
   "id": "11cd550f",
   "metadata": {},
   "outputs": [],
   "source": [
    "def filter_dataset(y: np.ndarray) -> List[int]:\n",
    "    all_values = sorted(y.tolist())\n",
    "    n = len(all_values)\n",
    "    if n <= 10000:\n",
    "        err_msg = f'y is wrong! Expected length of y is greater than 10000, ' \\\n",
    "                  f'but got {n}.'\n",
    "        raise ValueError(err_msg)\n",
    "    y001 = all_values[int(round((n - 1) * 0.001))]\n",
    "    y999 = all_values[int(round((n - 1) * 0.999))]\n",
    "    del all_values\n",
    "    filtered_indices = list(filter(\n",
    "        lambda idx: (y[idx] > y001) and (y[idx] < y999),\n",
    "        range(n)\n",
    "    ))\n",
    "    return filtered_indices"
   ]
  },
  {
   "cell_type": "code",
   "execution_count": 144,
   "id": "2615b61b",
   "metadata": {},
   "outputs": [],
   "source": [
    "def build_neural_network(input_size: int, layer_size: int, n_layers: int,\n",
    "                         dropout_rate: float, scale_coeff: float,\n",
    "                         nn_name: str) -> tf.keras.Model:\n",
    "    feature_vector = tf.keras.layers.Input(\n",
    "        shape=(input_size,), dtype=tf.float32,\n",
    "        name=f'{nn_name}_feature_vector'\n",
    "    )\n",
    "    outputs = []\n",
    "    hidden_layer = tf.keras.layers.AlphaDropout(\n",
    "        rate=dropout_rate,\n",
    "        seed=random.randint(0, 2147483647),\n",
    "        name=f'{nn_name}_dropout1'\n",
    "    )(feature_vector)\n",
    "    for layer_idx in range(1, (2 * n_layers) // 3 + 1):\n",
    "        try:\n",
    "            kernel_initializer = tf.keras.initializers.LecunNormal(\n",
    "                seed=random.randint(0, 2147483647)\n",
    "            )\n",
    "        except:\n",
    "            kernel_initializer = tf.compat.v1.keras.initializers.lecun_normal(\n",
    "                seed=random.randint(0, 2147483647)\n",
    "            )\n",
    "        hidden_layer = tf.keras.layers.Dense(\n",
    "            units=layer_size,\n",
    "            activation='selu',\n",
    "            kernel_initializer=kernel_initializer,\n",
    "            bias_initializer='zeros',\n",
    "            name=f'{nn_name}_dense{layer_idx}'\n",
    "        )(hidden_layer)\n",
    "        hidden_layer = tf.keras.layers.AlphaDropout(\n",
    "            rate=dropout_rate,\n",
    "            seed=random.randint(0, 2147483647),\n",
    "            name=f'{nn_name}_dropout{layer_idx + 1}'\n",
    "        )(hidden_layer)\n",
    "    try:\n",
    "        kernel_initializer = tf.keras.initializers.LecunNormal(\n",
    "            seed=random.randint(0, 2147483647)\n",
    "        )\n",
    "    except:\n",
    "        kernel_initializer = tf.compat.v1.keras.initializers.lecun_normal(\n",
    "            seed=random.randint(0, 2147483647)\n",
    "        )\n",
    "    projection_layer = tf.keras.layers.Dense(\n",
    "        units=50,\n",
    "        activation=None,\n",
    "        use_bias=False,\n",
    "        kernel_initializer=kernel_initializer,\n",
    "        name=f'{nn_name}_projection'\n",
    "    )(hidden_layer)\n",
    "    for layer_idx in range((2 * n_layers) // 3 + 1, n_layers + 1):\n",
    "        try:\n",
    "            kernel_initializer = tf.keras.initializers.LecunNormal(\n",
    "                seed=random.randint(0, 2147483647)\n",
    "            )\n",
    "        except:\n",
    "            kernel_initializer = tf.compat.v1.keras.initializers.lecun_normal(\n",
    "                seed=random.randint(0, 2147483647)\n",
    "            )\n",
    "        hidden_layer = tf.keras.layers.Dense(\n",
    "            units=layer_size,\n",
    "            activation='selu',\n",
    "            kernel_initializer=kernel_initializer,\n",
    "            bias_initializer='zeros',\n",
    "            name=f'{nn_name}_dense{layer_idx}'\n",
    "        )(hidden_layer)\n",
    "        hidden_layer = tf.keras.layers.AlphaDropout(\n",
    "            rate=dropout_rate,\n",
    "            seed=random.randint(0, 2147483647),\n",
    "            name=f'{nn_name}_dropout{layer_idx + 1}'\n",
    "        )(hidden_layer)\n",
    "    try:\n",
    "        kernel_initializer = tf.keras.initializers.LecunNormal(\n",
    "            seed=random.randint(0, 2147483647)\n",
    "        )\n",
    "    except:\n",
    "        kernel_initializer = tf.compat.v1.keras.initializers.lecun_normal(\n",
    "            seed=random.randint(0, 2147483647)\n",
    "        )\n",
    "    output_layer = tf.keras.layers.Dense(\n",
    "        units=2,\n",
    "        activation=None,\n",
    "        use_bias=False,\n",
    "        kernel_initializer=kernel_initializer,\n",
    "        name=f'{nn_name}_output'\n",
    "    )(hidden_layer)\n",
    "    bayesian_layer = tfp.layers.DistributionLambda(\n",
    "        lambda t: tfp.distributions.Normal(\n",
    "            loc=t[..., :1],\n",
    "            scale=1e-6 + tf.math.softplus((1.0 / scale_coeff) * t[..., 1:])\n",
    "        ),\n",
    "        name=f'{nn_name}_distribution'\n",
    "    )(output_layer)\n",
    "    neural_network = tf.keras.Model(\n",
    "        inputs=feature_vector,\n",
    "        outputs=[bayesian_layer, projection_layer],\n",
    "        name=nn_name\n",
    "    )\n",
    "    neural_network.build(input_shape=(None, input_size))\n",
    "    return neural_network"
   ]
  },
  {
   "cell_type": "code",
   "execution_count": 145,
   "id": "489b033f",
   "metadata": {},
   "outputs": [],
   "source": [
    "def show_training_process(history: tf.keras.callbacks.History, metric_name: str,\n",
    "                          figure_id: int=1, comment: str=''):\n",
    "    val_metric_name = 'val_' + metric_name\n",
    "    if metric_name not in history.history:\n",
    "        err_msg = f'The metric \"{metric_name}\" is not found! Available metrics are: ' \\\n",
    "                  f'{list(history.history.keys())}.'\n",
    "        raise ValueError(err_msg)\n",
    "    plt.figure(figure_id, figsize=(5, 5))\n",
    "    interesting_metric = history.history[metric_name]\n",
    "    plt.plot(list(range(len(interesting_metric))), interesting_metric,\n",
    "             label=f'Training {metric_name}')\n",
    "    if val_metric_name in history.history:\n",
    "        interesting_val_metric = history.history[val_metric_name]\n",
    "        assert len(interesting_metric) == len(interesting_val_metric)\n",
    "        plt.plot(list(range(len(interesting_val_metric))),\n",
    "                 interesting_val_metric,\n",
    "                 label=f'Validation {metric_name}')\n",
    "    plt.xlabel('Epochs')\n",
    "    plt.ylabel(metric_name)\n",
    "    if len(comment) > 0:\n",
    "        plt.title(f'Training process of {comment}')\n",
    "    else:\n",
    "        plt.title('Training process')\n",
    "    plt.legend(loc='best')\n",
    "    plt.show()"
   ]
  },
  {
   "cell_type": "code",
   "execution_count": 146,
   "id": "ba630050",
   "metadata": {},
   "outputs": [],
   "source": [
    "def predict_with_single_nn(input_data: np.ndarray, model_for_prediction: tf.keras.Model,\n",
    "                           batch_size: int, output_scaler: StandardScaler) \\\n",
    "        -> Tuple[np.ndarray, np.ndarray]:\n",
    "    if len(input_data.shape) != 2:\n",
    "        err_msg = f'The `input_data` argument is wrong! Expected 2-D array, ' \\\n",
    "                  f'got {len(input_data.shape)}-D one!'\n",
    "        raise ValueError(err_msg)\n",
    "    n_batches = int(np.ceil(input_data.shape[0] / float(batch_size)))\n",
    "    pred_mean = []\n",
    "    pred_std = []\n",
    "    for batch_idx in range(n_batches):\n",
    "        batch_start = batch_idx * batch_size\n",
    "        batch_end = min(input_data.shape[0], batch_start + batch_size)\n",
    "        instant_predictions = model_for_prediction(input_data[batch_start:batch_end])[0]\n",
    "        if not isinstance(instant_predictions, tfp.distributions.Distribution):\n",
    "            err_msg = f'Minibatch {batch_idx}: predictions are wrong! ' \\\n",
    "                      f'Expected tfp.distributions.Distribution, ' \\\n",
    "                      f'got {type(instant_predictions)}.'\n",
    "            raise ValueError(err_msg)\n",
    "        instant_mean = instant_predictions.mean()\n",
    "        instant_std = instant_predictions.stddev()\n",
    "        del instant_predictions\n",
    "        if not isinstance(instant_mean, np.ndarray):\n",
    "            instant_mean = instant_mean.numpy()\n",
    "        if not isinstance(instant_std, np.ndarray):\n",
    "            instant_std = instant_std.numpy()\n",
    "        instant_mean = instant_mean.astype(np.float64).flatten()\n",
    "        instant_std = instant_std.astype(np.float64).flatten()\n",
    "        pred_mean.append(instant_mean)\n",
    "        pred_std.append(instant_std)\n",
    "        del instant_mean, instant_std\n",
    "    pred_mean = np.concatenate(pred_mean)\n",
    "    pred_std = np.concatenate(pred_std)\n",
    "    pred_mean = output_scaler.inverse_transform(\n",
    "        pred_mean.reshape((input_data.shape[0], 1))\n",
    "    ).flatten()\n",
    "    pred_std *= output_scaler.scale_[0]\n",
    "    return pred_mean, pred_std * pred_std"
   ]
  },
  {
   "cell_type": "code",
   "execution_count": 147,
   "id": "7ec86be4",
   "metadata": {},
   "outputs": [],
   "source": [
    "def evaluate_single_nn(pred_means: np.ndarray, pred_vars: np.ndarray,\n",
    "                       true_outputs: np.ndarray) -> float:\n",
    "    if len(pred_means.shape) != 1:\n",
    "        err_msg = f'The `pred_means` argument is wrong! Expected 1-D array, ' \\\n",
    "                  f'got {len(pred_means.shape)}-D one.'\n",
    "        raise ValueError(err_msg)\n",
    "    if len(pred_vars.shape) != 1:\n",
    "        err_msg = f'The `pred_vars` argument is wrong! Expected 1-D array, ' \\\n",
    "                  f'got {len(pred_vars.shape)}-D one.'\n",
    "        raise ValueError(err_msg)\n",
    "    if len(true_outputs.shape) != 1:\n",
    "        err_msg = f'The `true_outputs` argument is wrong! Expected 1-D array, ' \\\n",
    "                  f'got {len(true_outputs.shape)}-D one.'\n",
    "        raise ValueError(err_msg)\n",
    "    n_test_samples = true_outputs.shape[0]\n",
    "    if n_test_samples < 5:\n",
    "        raise ValueError(f'Number of test samples = {n_test_samples} is too small!')\n",
    "    if n_test_samples != pred_means.shape[0]:\n",
    "        err_msg = f'The `pred_means` does not correspond to the `true_outputs`! ' \\\n",
    "                  f'{pred_means.shape[0]} != {n_test_samples}'\n",
    "        raise ValueError(err_msg)\n",
    "    if n_test_samples != pred_vars.shape[0]:\n",
    "        err_msg = f'The `pred_vars` does not correspond to the `true_outputs`! ' \\\n",
    "                  f'{pred_vars.shape[0]} != {n_test_samples}'\n",
    "        raise ValueError(err_msg)\n",
    "    \n",
    "    all_preds_ = np.empty((1, n_test_samples, 2), dtype=np.float32)\n",
    "    all_preds_[0, :, 0] = pred_means\n",
    "    all_preds_[0, :, 1] = pred_vars\n",
    "    all_uncertainty_ = ensemble_uncertainties_regression(all_preds_)\n",
    "    uncertainties = all_uncertainty_['tvar']\n",
    "    del all_preds_, all_uncertainty_\n",
    "    \n",
    "    errors = (pred_means - true_outputs) ** 2\n",
    "    rejection_mse_ = calc_uncertainty_regection_curve(errors, uncertainties)\n",
    "    return np.mean(rejection_mse_)"
   ]
  },
  {
   "cell_type": "code",
   "execution_count": 148,
   "id": "8401ac8a",
   "metadata": {},
   "outputs": [],
   "source": [
    "def predict_by_ensemble(input_data: np.ndarray,\n",
    "                        preprocessing: Pipeline,\n",
    "                        ensemble: List[tf.keras.Model],\n",
    "                        postprocessing: List[StandardScaler],\n",
    "                        minibatch: int) -> np.ndarray:\n",
    "    num_samples = input_data.shape[0]\n",
    "    ensemble_size = len(postprocessing)\n",
    "    if ensemble_size != len(ensemble):\n",
    "        err_msg = f'Ensemble of preprocessors does not correspond to ' \\\n",
    "                  f'ensemble of models! {ensemble_size} != {len(ensemble)}'\n",
    "        raise ValueError(err_msg)\n",
    "    predictions_of_ensemble = np.empty((ensemble_size, num_samples, 2),\n",
    "                                       dtype=np.float64)\n",
    "    X = preprocessing.transform(input_data).astype(np.float32)\n",
    "    for model_idx, (cur_model, post_) in enumerate(zip(ensemble, postprocessing)):\n",
    "        y_mean, y_var = predict_with_single_nn(\n",
    "            input_data=X,\n",
    "            model_for_prediction=cur_model,\n",
    "            output_scaler=post_,\n",
    "            batch_size=minibatch\n",
    "        )\n",
    "        predictions_of_ensemble[model_idx, :, 0] = y_mean\n",
    "        predictions_of_ensemble[model_idx, :, 1] = y_var\n",
    "    return predictions_of_ensemble"
   ]
  },
  {
   "cell_type": "code",
   "execution_count": 149,
   "id": "87069127",
   "metadata": {},
   "outputs": [],
   "source": [
    "random.seed(42)\n",
    "np.random.seed(42)\n",
    "tf.random.set_seed(42)"
   ]
  },
  {
   "cell_type": "code",
   "execution_count": 150,
   "id": "640baa60",
   "metadata": {},
   "outputs": [
    {
     "name": "stdout",
     "output_type": "stream",
     "text": [
      "data\\yandex-shifts\\weather True\n"
     ]
    }
   ],
   "source": [
    "data_dir = os.path.join('data', 'yandex-shifts', 'weather')\n",
    "print(f'{data_dir} {os.path.isdir(data_dir)}')"
   ]
  },
  {
   "cell_type": "code",
   "execution_count": 151,
   "id": "51bc248e",
   "metadata": {},
   "outputs": [
    {
     "name": "stdout",
     "output_type": "stream",
     "text": [
      "models\\yandex-shifts\\weather\\S True\n"
     ]
    }
   ],
   "source": [
    "model_dir = os.path.join('models', 'yandex-shifts', 'weather', 'S')\n",
    "print(f'{model_dir} {os.path.isdir(model_dir)}')"
   ]
  },
  {
   "cell_type": "code",
   "execution_count": 152,
   "id": "f18a0a43",
   "metadata": {},
   "outputs": [
    {
     "name": "stdout",
     "output_type": "stream",
     "text": [
      "models\\yandex-shifts\\weather-baseline-catboost True\n"
     ]
    }
   ],
   "source": [
    "baseline_model_dir = os.path.join('models', 'yandex-shifts',\n",
    "                                  'weather-baseline-catboost')\n",
    "print(f'{baseline_model_dir} {os.path.isdir(baseline_model_dir)}')"
   ]
  },
  {
   "cell_type": "code",
   "execution_count": 153,
   "id": "63b5e35b",
   "metadata": {},
   "outputs": [
    {
     "name": "stdout",
     "output_type": "stream",
     "text": [
      "data\\yandex-shifts\\weather\\x_val_cube.zarr False\n"
     ]
    }
   ],
   "source": [
    "dev_in_name = os.path.join(data_dir, 'x_val_cube.zarr')\n",
    "print(f'{dev_in_name} {os.path.isfile(dev_in_name)}')"
   ]
  },
  {
   "cell_type": "code",
   "execution_count": 154,
   "id": "3279f561",
   "metadata": {},
   "outputs": [
    {
     "name": "stdout",
     "output_type": "stream",
     "text": [
      "data\\yandex-shifts\\weather\\y_val_cube.zarr False\n"
     ]
    }
   ],
   "source": [
    "dev_out_name = os.path.join(data_dir, 'y_val_cube.zarr')\n",
    "print(f'{dev_out_name} {os.path.isfile(dev_out_name)}')"
   ]
  },
  {
   "cell_type": "code",
   "execution_count": 155,
   "id": "3eae59d1",
   "metadata": {},
   "outputs": [
    {
     "name": "stdout",
     "output_type": "stream",
     "text": [
      "data\\yandex-shifts\\weather\\x_test_cube.zarr False\n"
     ]
    }
   ],
   "source": [
    "eval_name = os.path.join(data_dir, 'x_test_cube.zarr')\n",
    "print(f'{eval_name} {os.path.isfile(eval_name)}')"
   ]
  },
  {
   "cell_type": "code",
   "execution_count": 193,
   "outputs": [
    {
     "name": "stdout",
     "output_type": "stream",
     "text": [
      "data\\yandex-shifts\\weather\\x_test_cube.zarr False\n"
     ]
    }
   ],
   "source": [
    "eval_output_name= os.path.join(data_dir, 'y_test_cube.zarr')\n",
    "print(f'{eval_name} {os.path.isfile(eval_name)}')"
   ],
   "metadata": {
    "collapsed": false,
    "pycharm": {
     "name": "#%%\n"
    }
   }
  },
  {
   "cell_type": "code",
   "execution_count": 156,
   "id": "726686a5",
   "metadata": {},
   "outputs": [],
   "source": [
    "preprocessing_name = os.path.join(model_dir, 'preprocessing_pipeline.pkl')\n",
    "with open(preprocessing_name, 'rb') as fp:\n",
    "    common_preprocessor = pickle.load(fp)"
   ]
  },
  {
   "cell_type": "code",
   "execution_count": 157,
   "id": "753b988e",
   "metadata": {},
   "outputs": [
    {
     "name": "stdout",
     "output_type": "stream",
     "text": [
      "Pipeline(steps=[('imputer',\n",
      "                 SimpleImputer(fill_value=-1.0, strategy='constant')),\n",
      "                ('minmax_scaler', MinMaxScaler()),\n",
      "                ('composite_transformer',\n",
      "                 ColumnTransformer(n_jobs=1, sparse_threshold=0.0,\n",
      "                                   transformers=[('10_metre_u_wind_component',\n",
      "                                                  KBinsDiscretizer(encode='ordinal',\n",
      "                                                                   n_bins=256),\n",
      "                                                  (0,)),\n",
      "                                                 ('10_metre_v_wind_component',\n",
      "                                                  KBinsDiscretizer(encode='ordinal',\n",
      "                                                                   n_bins=...\n",
      "                                                  (16,)),\n",
      "                                                 ('v_component_of_wind_h180',\n",
      "                                                  KBinsDiscretizer(encode='ordinal',\n",
      "                                                                   n_bins=256),\n",
      "                                                  (17,)),\n",
      "                                                 ('v_component_of_wind_h40',\n",
      "                                                  KBinsDiscretizer(encode='ordinal',\n",
      "                                                                   n_bins=256),\n",
      "                                                  (18,)),\n",
      "                                                 ('v_component_of_wind_h80',\n",
      "                                                  KBinsDiscretizer(encode='ordinal',\n",
      "                                                                   n_bins=256),\n",
      "                                                  (19,))])),\n",
      "                ('selector', VarianceThreshold()),\n",
      "                ('standard_scaler', StandardScaler()),\n",
      "                ('pca', PCA(random_state=42))])\n"
     ]
    }
   ],
   "source": [
    "print(common_preprocessor)"
   ]
  },
  {
   "cell_type": "code",
   "execution_count": 158,
   "id": "9d952714",
   "metadata": {},
   "outputs": [],
   "source": [
    "config_name = os.path.join(model_dir, 'weather_snn_config.json')\n",
    "with codecs.open(config_name, mode='r', encoding='utf-8') as fp:\n",
    "    nn_ens_hyperparams = json.load(fp)\n",
    "num_features = nn_ens_hyperparams['input_size']\n",
    "ensemble_size = nn_ens_hyperparams['ensemble_size']\n",
    "nn_layer_size = nn_ens_hyperparams['layer_size']\n",
    "nn_depth = nn_ens_hyperparams['n_layers']\n",
    "nn_dropout = nn_ens_hyperparams['alpha_dropout_rate']"
   ]
  },
  {
   "cell_type": "code",
   "execution_count": 159,
   "id": "01916bc9",
   "metadata": {},
   "outputs": [],
   "source": [
    "postprocessing_name = os.path.join(model_dir, 'postprocessing_scalers.pkl')\n",
    "with open(postprocessing_name, 'rb') as fp:\n",
    "    postprocessing_scalers = pickle.load(fp)\n",
    "if len(postprocessing_scalers) != ensemble_size:\n",
    "    err_msg_ = f'Postprocessors do not correspond to NN ensemble! ' \\\n",
    "               f'{len(postprocessing_scalers)} != {ensemble_size}'\n",
    "    raise ValueError(err_msg_)"
   ]
  },
  {
   "cell_type": "code",
   "execution_count": 160,
   "id": "c9d044e7",
   "metadata": {},
   "outputs": [],
   "source": [
    "deep_ensemble = []\n",
    "BATCH_SIZE = 4096\n",
    "new_figure_id = 0"
   ]
  },
  {
   "cell_type": "code",
   "execution_count": 161,
   "id": "1af52dbe",
   "metadata": {
    "scrolled": true
   },
   "outputs": [
    {
     "name": "stdout",
     "output_type": "stream",
     "text": [
      "========================================\n",
      " Self-Normalizing Network 1 for weather prediction\n",
      "========================================\n",
      "\n",
      "Model: \"weather_snn_1\"\n",
      "__________________________________________________________________________________________________\n",
      " Layer (type)                   Output Shape         Param #     Connected to                     \n",
      "==================================================================================================\n",
      " weather_snn_1_feature_vector (  [(None, 20)]        0           []                               \n",
      " InputLayer)                                                                                      \n",
      "                                                                                                  \n",
      " weather_snn_1_dropout1 (AlphaD  (None, 20)          0           ['weather_snn_1_feature_vector[0]\n",
      " ropout)                                                         [0]']                            \n",
      "                                                                                                  \n",
      " weather_snn_1_dense1 (Dense)   (None, 512)          10752       ['weather_snn_1_dropout1[0][0]'] \n",
      "                                                                                                  \n",
      " weather_snn_1_dropout2 (AlphaD  (None, 512)         0           ['weather_snn_1_dense1[0][0]']   \n",
      " ropout)                                                                                          \n",
      "                                                                                                  \n",
      " weather_snn_1_dense2 (Dense)   (None, 512)          262656      ['weather_snn_1_dropout2[0][0]'] \n",
      "                                                                                                  \n",
      " weather_snn_1_dropout3 (AlphaD  (None, 512)         0           ['weather_snn_1_dense2[0][0]']   \n",
      " ropout)                                                                                          \n",
      "                                                                                                  \n",
      " weather_snn_1_dense3 (Dense)   (None, 512)          262656      ['weather_snn_1_dropout3[0][0]'] \n",
      "                                                                                                  \n",
      " weather_snn_1_dropout4 (AlphaD  (None, 512)         0           ['weather_snn_1_dense3[0][0]']   \n",
      " ropout)                                                                                          \n",
      "                                                                                                  \n",
      " weather_snn_1_dense4 (Dense)   (None, 512)          262656      ['weather_snn_1_dropout4[0][0]'] \n",
      "                                                                                                  \n",
      " weather_snn_1_dropout5 (AlphaD  (None, 512)         0           ['weather_snn_1_dense4[0][0]']   \n",
      " ropout)                                                                                          \n",
      "                                                                                                  \n",
      " weather_snn_1_dense5 (Dense)   (None, 512)          262656      ['weather_snn_1_dropout5[0][0]'] \n",
      "                                                                                                  \n",
      " weather_snn_1_dropout6 (AlphaD  (None, 512)         0           ['weather_snn_1_dense5[0][0]']   \n",
      " ropout)                                                                                          \n",
      "                                                                                                  \n",
      " weather_snn_1_dense6 (Dense)   (None, 512)          262656      ['weather_snn_1_dropout6[0][0]'] \n",
      "                                                                                                  \n",
      " weather_snn_1_dropout7 (AlphaD  (None, 512)         0           ['weather_snn_1_dense6[0][0]']   \n",
      " ropout)                                                                                          \n",
      "                                                                                                  \n",
      " weather_snn_1_dense7 (Dense)   (None, 512)          262656      ['weather_snn_1_dropout7[0][0]'] \n",
      "                                                                                                  \n",
      " weather_snn_1_dropout8 (AlphaD  (None, 512)         0           ['weather_snn_1_dense7[0][0]']   \n",
      " ropout)                                                                                          \n",
      "                                                                                                  \n",
      " weather_snn_1_dense8 (Dense)   (None, 512)          262656      ['weather_snn_1_dropout8[0][0]'] \n",
      "                                                                                                  \n",
      " weather_snn_1_dropout9 (AlphaD  (None, 512)         0           ['weather_snn_1_dense8[0][0]']   \n",
      " ropout)                                                                                          \n",
      "                                                                                                  \n",
      " weather_snn_1_dense9 (Dense)   (None, 512)          262656      ['weather_snn_1_dropout9[0][0]'] \n",
      "                                                                                                  \n",
      " weather_snn_1_dropout10 (Alpha  (None, 512)         0           ['weather_snn_1_dense9[0][0]']   \n",
      " Dropout)                                                                                         \n",
      "                                                                                                  \n",
      " weather_snn_1_dense10 (Dense)  (None, 512)          262656      ['weather_snn_1_dropout10[0][0]']\n",
      "                                                                                                  \n",
      " weather_snn_1_dropout11 (Alpha  (None, 512)         0           ['weather_snn_1_dense10[0][0]']  \n",
      " Dropout)                                                                                         \n",
      "                                                                                                  \n",
      " weather_snn_1_dense11 (Dense)  (None, 512)          262656      ['weather_snn_1_dropout11[0][0]']\n",
      "                                                                                                  \n",
      " weather_snn_1_dropout12 (Alpha  (None, 512)         0           ['weather_snn_1_dense11[0][0]']  \n",
      " Dropout)                                                                                         \n",
      "                                                                                                  \n",
      " weather_snn_1_dense12 (Dense)  (None, 512)          262656      ['weather_snn_1_dropout12[0][0]']\n",
      "                                                                                                  \n",
      " weather_snn_1_dropout13 (Alpha  (None, 512)         0           ['weather_snn_1_dense12[0][0]']  \n",
      " Dropout)                                                                                         \n",
      "                                                                                                  \n",
      " weather_snn_1_dense13 (Dense)  (None, 512)          262656      ['weather_snn_1_dropout13[0][0]']\n",
      "                                                                                                  \n",
      " weather_snn_1_dropout14 (Alpha  (None, 512)         0           ['weather_snn_1_dense13[0][0]']  \n",
      " Dropout)                                                                                         \n",
      "                                                                                                  \n",
      " weather_snn_1_dense14 (Dense)  (None, 512)          262656      ['weather_snn_1_dropout14[0][0]']\n",
      "                                                                                                  \n",
      " weather_snn_1_dropout15 (Alpha  (None, 512)         0           ['weather_snn_1_dense14[0][0]']  \n",
      " Dropout)                                                                                         \n",
      "                                                                                                  \n",
      " weather_snn_1_dense15 (Dense)  (None, 512)          262656      ['weather_snn_1_dropout15[0][0]']\n",
      "                                                                                                  \n",
      " weather_snn_1_dropout16 (Alpha  (None, 512)         0           ['weather_snn_1_dense15[0][0]']  \n",
      " Dropout)                                                                                         \n",
      "                                                                                                  \n",
      " weather_snn_1_dense16 (Dense)  (None, 512)          262656      ['weather_snn_1_dropout16[0][0]']\n",
      "                                                                                                  \n",
      " weather_snn_1_dropout17 (Alpha  (None, 512)         0           ['weather_snn_1_dense16[0][0]']  \n",
      " Dropout)                                                                                         \n",
      "                                                                                                  \n",
      " weather_snn_1_dense17 (Dense)  (None, 512)          262656      ['weather_snn_1_dropout17[0][0]']\n",
      "                                                                                                  \n",
      " weather_snn_1_dropout18 (Alpha  (None, 512)         0           ['weather_snn_1_dense17[0][0]']  \n",
      " Dropout)                                                                                         \n",
      "                                                                                                  \n",
      " weather_snn_1_dense18 (Dense)  (None, 512)          262656      ['weather_snn_1_dropout18[0][0]']\n",
      "                                                                                                  \n",
      " weather_snn_1_dropout19 (Alpha  (None, 512)         0           ['weather_snn_1_dense18[0][0]']  \n",
      " Dropout)                                                                                         \n",
      "                                                                                                  \n",
      " weather_snn_1_output (Dense)   (None, 2)            1024        ['weather_snn_1_dropout19[0][0]']\n",
      "                                                                                                  \n",
      " weather_snn_1_distribution (Di  ((None, 1),         0           ['weather_snn_1_output[0][0]']   \n",
      " stributionLambda)               (None, 1))                                                       \n",
      "                                                                                                  \n",
      " weather_snn_1_projection (Dens  (None, 50)          25600       ['weather_snn_1_dropout13[0][0]']\n",
      " e)                                                                                               \n",
      "                                                                                                  \n",
      "==================================================================================================\n",
      "Total params: 4,502,528\n",
      "Trainable params: 4,502,528\n",
      "Non-trainable params: 0\n",
      "__________________________________________________________________________________________________\n",
      "\n",
      "========================================\n",
      " Self-Normalizing Network 2 for weather prediction\n",
      "========================================\n",
      "\n",
      "Model: \"weather_snn_2\"\n",
      "__________________________________________________________________________________________________\n",
      " Layer (type)                   Output Shape         Param #     Connected to                     \n",
      "==================================================================================================\n",
      " weather_snn_2_feature_vector (  [(None, 20)]        0           []                               \n",
      " InputLayer)                                                                                      \n",
      "                                                                                                  \n",
      " weather_snn_2_dropout1 (AlphaD  (None, 20)          0           ['weather_snn_2_feature_vector[0]\n",
      " ropout)                                                         [0]']                            \n",
      "                                                                                                  \n",
      " weather_snn_2_dense1 (Dense)   (None, 512)          10752       ['weather_snn_2_dropout1[0][0]'] \n",
      "                                                                                                  \n",
      " weather_snn_2_dropout2 (AlphaD  (None, 512)         0           ['weather_snn_2_dense1[0][0]']   \n",
      " ropout)                                                                                          \n",
      "                                                                                                  \n",
      " weather_snn_2_dense2 (Dense)   (None, 512)          262656      ['weather_snn_2_dropout2[0][0]'] \n",
      "                                                                                                  \n",
      " weather_snn_2_dropout3 (AlphaD  (None, 512)         0           ['weather_snn_2_dense2[0][0]']   \n",
      " ropout)                                                                                          \n",
      "                                                                                                  \n",
      " weather_snn_2_dense3 (Dense)   (None, 512)          262656      ['weather_snn_2_dropout3[0][0]'] \n",
      "                                                                                                  \n",
      " weather_snn_2_dropout4 (AlphaD  (None, 512)         0           ['weather_snn_2_dense3[0][0]']   \n",
      " ropout)                                                                                          \n",
      "                                                                                                  \n",
      " weather_snn_2_dense4 (Dense)   (None, 512)          262656      ['weather_snn_2_dropout4[0][0]'] \n",
      "                                                                                                  \n",
      " weather_snn_2_dropout5 (AlphaD  (None, 512)         0           ['weather_snn_2_dense4[0][0]']   \n",
      " ropout)                                                                                          \n",
      "                                                                                                  \n",
      " weather_snn_2_dense5 (Dense)   (None, 512)          262656      ['weather_snn_2_dropout5[0][0]'] \n",
      "                                                                                                  \n",
      " weather_snn_2_dropout6 (AlphaD  (None, 512)         0           ['weather_snn_2_dense5[0][0]']   \n",
      " ropout)                                                                                          \n",
      "                                                                                                  \n",
      " weather_snn_2_dense6 (Dense)   (None, 512)          262656      ['weather_snn_2_dropout6[0][0]'] \n",
      "                                                                                                  \n",
      " weather_snn_2_dropout7 (AlphaD  (None, 512)         0           ['weather_snn_2_dense6[0][0]']   \n",
      " ropout)                                                                                          \n",
      "                                                                                                  \n",
      " weather_snn_2_dense7 (Dense)   (None, 512)          262656      ['weather_snn_2_dropout7[0][0]'] \n",
      "                                                                                                  \n",
      " weather_snn_2_dropout8 (AlphaD  (None, 512)         0           ['weather_snn_2_dense7[0][0]']   \n",
      " ropout)                                                                                          \n",
      "                                                                                                  \n",
      " weather_snn_2_dense8 (Dense)   (None, 512)          262656      ['weather_snn_2_dropout8[0][0]'] \n",
      "                                                                                                  \n",
      " weather_snn_2_dropout9 (AlphaD  (None, 512)         0           ['weather_snn_2_dense8[0][0]']   \n",
      " ropout)                                                                                          \n",
      "                                                                                                  \n",
      " weather_snn_2_dense9 (Dense)   (None, 512)          262656      ['weather_snn_2_dropout9[0][0]'] \n",
      "                                                                                                  \n",
      " weather_snn_2_dropout10 (Alpha  (None, 512)         0           ['weather_snn_2_dense9[0][0]']   \n",
      " Dropout)                                                                                         \n",
      "                                                                                                  \n",
      " weather_snn_2_dense10 (Dense)  (None, 512)          262656      ['weather_snn_2_dropout10[0][0]']\n",
      "                                                                                                  \n",
      " weather_snn_2_dropout11 (Alpha  (None, 512)         0           ['weather_snn_2_dense10[0][0]']  \n",
      " Dropout)                                                                                         \n",
      "                                                                                                  \n",
      " weather_snn_2_dense11 (Dense)  (None, 512)          262656      ['weather_snn_2_dropout11[0][0]']\n",
      "                                                                                                  \n",
      " weather_snn_2_dropout12 (Alpha  (None, 512)         0           ['weather_snn_2_dense11[0][0]']  \n",
      " Dropout)                                                                                         \n",
      "                                                                                                  \n",
      " weather_snn_2_dense12 (Dense)  (None, 512)          262656      ['weather_snn_2_dropout12[0][0]']\n",
      "                                                                                                  \n",
      " weather_snn_2_dropout13 (Alpha  (None, 512)         0           ['weather_snn_2_dense12[0][0]']  \n",
      " Dropout)                                                                                         \n",
      "                                                                                                  \n",
      " weather_snn_2_dense13 (Dense)  (None, 512)          262656      ['weather_snn_2_dropout13[0][0]']\n",
      "                                                                                                  \n",
      " weather_snn_2_dropout14 (Alpha  (None, 512)         0           ['weather_snn_2_dense13[0][0]']  \n",
      " Dropout)                                                                                         \n",
      "                                                                                                  \n",
      " weather_snn_2_dense14 (Dense)  (None, 512)          262656      ['weather_snn_2_dropout14[0][0]']\n",
      "                                                                                                  \n",
      " weather_snn_2_dropout15 (Alpha  (None, 512)         0           ['weather_snn_2_dense14[0][0]']  \n",
      " Dropout)                                                                                         \n",
      "                                                                                                  \n",
      " weather_snn_2_dense15 (Dense)  (None, 512)          262656      ['weather_snn_2_dropout15[0][0]']\n",
      "                                                                                                  \n",
      " weather_snn_2_dropout16 (Alpha  (None, 512)         0           ['weather_snn_2_dense15[0][0]']  \n",
      " Dropout)                                                                                         \n",
      "                                                                                                  \n",
      " weather_snn_2_dense16 (Dense)  (None, 512)          262656      ['weather_snn_2_dropout16[0][0]']\n",
      "                                                                                                  \n",
      " weather_snn_2_dropout17 (Alpha  (None, 512)         0           ['weather_snn_2_dense16[0][0]']  \n",
      " Dropout)                                                                                         \n",
      "                                                                                                  \n",
      " weather_snn_2_dense17 (Dense)  (None, 512)          262656      ['weather_snn_2_dropout17[0][0]']\n",
      "                                                                                                  \n",
      " weather_snn_2_dropout18 (Alpha  (None, 512)         0           ['weather_snn_2_dense17[0][0]']  \n",
      " Dropout)                                                                                         \n",
      "                                                                                                  \n",
      " weather_snn_2_dense18 (Dense)  (None, 512)          262656      ['weather_snn_2_dropout18[0][0]']\n",
      "                                                                                                  \n",
      " weather_snn_2_dropout19 (Alpha  (None, 512)         0           ['weather_snn_2_dense18[0][0]']  \n",
      " Dropout)                                                                                         \n",
      "                                                                                                  \n",
      " weather_snn_2_output (Dense)   (None, 2)            1024        ['weather_snn_2_dropout19[0][0]']\n",
      "                                                                                                  \n",
      " weather_snn_2_distribution (Di  ((None, 1),         0           ['weather_snn_2_output[0][0]']   \n",
      " stributionLambda)               (None, 1))                                                       \n",
      "                                                                                                  \n",
      " weather_snn_2_projection (Dens  (None, 50)          25600       ['weather_snn_2_dropout13[0][0]']\n",
      " e)                                                                                               \n",
      "                                                                                                  \n",
      "==================================================================================================\n",
      "Total params: 4,502,528\n",
      "Trainable params: 4,502,528\n",
      "Non-trainable params: 0\n",
      "__________________________________________________________________________________________________\n",
      "\n",
      "========================================\n",
      " Self-Normalizing Network 3 for weather prediction\n",
      "========================================\n",
      "\n",
      "Model: \"weather_snn_3\"\n",
      "__________________________________________________________________________________________________\n",
      " Layer (type)                   Output Shape         Param #     Connected to                     \n",
      "==================================================================================================\n",
      " weather_snn_3_feature_vector (  [(None, 20)]        0           []                               \n",
      " InputLayer)                                                                                      \n",
      "                                                                                                  \n",
      " weather_snn_3_dropout1 (AlphaD  (None, 20)          0           ['weather_snn_3_feature_vector[0]\n",
      " ropout)                                                         [0]']                            \n",
      "                                                                                                  \n",
      " weather_snn_3_dense1 (Dense)   (None, 512)          10752       ['weather_snn_3_dropout1[0][0]'] \n",
      "                                                                                                  \n",
      " weather_snn_3_dropout2 (AlphaD  (None, 512)         0           ['weather_snn_3_dense1[0][0]']   \n",
      " ropout)                                                                                          \n",
      "                                                                                                  \n",
      " weather_snn_3_dense2 (Dense)   (None, 512)          262656      ['weather_snn_3_dropout2[0][0]'] \n",
      "                                                                                                  \n",
      " weather_snn_3_dropout3 (AlphaD  (None, 512)         0           ['weather_snn_3_dense2[0][0]']   \n",
      " ropout)                                                                                          \n",
      "                                                                                                  \n",
      " weather_snn_3_dense3 (Dense)   (None, 512)          262656      ['weather_snn_3_dropout3[0][0]'] \n",
      "                                                                                                  \n",
      " weather_snn_3_dropout4 (AlphaD  (None, 512)         0           ['weather_snn_3_dense3[0][0]']   \n",
      " ropout)                                                                                          \n",
      "                                                                                                  \n",
      " weather_snn_3_dense4 (Dense)   (None, 512)          262656      ['weather_snn_3_dropout4[0][0]'] \n",
      "                                                                                                  \n",
      " weather_snn_3_dropout5 (AlphaD  (None, 512)         0           ['weather_snn_3_dense4[0][0]']   \n",
      " ropout)                                                                                          \n",
      "                                                                                                  \n",
      " weather_snn_3_dense5 (Dense)   (None, 512)          262656      ['weather_snn_3_dropout5[0][0]'] \n",
      "                                                                                                  \n",
      " weather_snn_3_dropout6 (AlphaD  (None, 512)         0           ['weather_snn_3_dense5[0][0]']   \n",
      " ropout)                                                                                          \n",
      "                                                                                                  \n",
      " weather_snn_3_dense6 (Dense)   (None, 512)          262656      ['weather_snn_3_dropout6[0][0]'] \n",
      "                                                                                                  \n",
      " weather_snn_3_dropout7 (AlphaD  (None, 512)         0           ['weather_snn_3_dense6[0][0]']   \n",
      " ropout)                                                                                          \n",
      "                                                                                                  \n",
      " weather_snn_3_dense7 (Dense)   (None, 512)          262656      ['weather_snn_3_dropout7[0][0]'] \n",
      "                                                                                                  \n",
      " weather_snn_3_dropout8 (AlphaD  (None, 512)         0           ['weather_snn_3_dense7[0][0]']   \n",
      " ropout)                                                                                          \n",
      "                                                                                                  \n",
      " weather_snn_3_dense8 (Dense)   (None, 512)          262656      ['weather_snn_3_dropout8[0][0]'] \n",
      "                                                                                                  \n",
      " weather_snn_3_dropout9 (AlphaD  (None, 512)         0           ['weather_snn_3_dense8[0][0]']   \n",
      " ropout)                                                                                          \n",
      "                                                                                                  \n",
      " weather_snn_3_dense9 (Dense)   (None, 512)          262656      ['weather_snn_3_dropout9[0][0]'] \n",
      "                                                                                                  \n",
      " weather_snn_3_dropout10 (Alpha  (None, 512)         0           ['weather_snn_3_dense9[0][0]']   \n",
      " Dropout)                                                                                         \n",
      "                                                                                                  \n",
      " weather_snn_3_dense10 (Dense)  (None, 512)          262656      ['weather_snn_3_dropout10[0][0]']\n",
      "                                                                                                  \n",
      " weather_snn_3_dropout11 (Alpha  (None, 512)         0           ['weather_snn_3_dense10[0][0]']  \n",
      " Dropout)                                                                                         \n",
      "                                                                                                  \n",
      " weather_snn_3_dense11 (Dense)  (None, 512)          262656      ['weather_snn_3_dropout11[0][0]']\n",
      "                                                                                                  \n",
      " weather_snn_3_dropout12 (Alpha  (None, 512)         0           ['weather_snn_3_dense11[0][0]']  \n",
      " Dropout)                                                                                         \n",
      "                                                                                                  \n",
      " weather_snn_3_dense12 (Dense)  (None, 512)          262656      ['weather_snn_3_dropout12[0][0]']\n",
      "                                                                                                  \n",
      " weather_snn_3_dropout13 (Alpha  (None, 512)         0           ['weather_snn_3_dense12[0][0]']  \n",
      " Dropout)                                                                                         \n",
      "                                                                                                  \n",
      " weather_snn_3_dense13 (Dense)  (None, 512)          262656      ['weather_snn_3_dropout13[0][0]']\n",
      "                                                                                                  \n",
      " weather_snn_3_dropout14 (Alpha  (None, 512)         0           ['weather_snn_3_dense13[0][0]']  \n",
      " Dropout)                                                                                         \n",
      "                                                                                                  \n",
      " weather_snn_3_dense14 (Dense)  (None, 512)          262656      ['weather_snn_3_dropout14[0][0]']\n",
      "                                                                                                  \n",
      " weather_snn_3_dropout15 (Alpha  (None, 512)         0           ['weather_snn_3_dense14[0][0]']  \n",
      " Dropout)                                                                                         \n",
      "                                                                                                  \n",
      " weather_snn_3_dense15 (Dense)  (None, 512)          262656      ['weather_snn_3_dropout15[0][0]']\n",
      "                                                                                                  \n",
      " weather_snn_3_dropout16 (Alpha  (None, 512)         0           ['weather_snn_3_dense15[0][0]']  \n",
      " Dropout)                                                                                         \n",
      "                                                                                                  \n",
      " weather_snn_3_dense16 (Dense)  (None, 512)          262656      ['weather_snn_3_dropout16[0][0]']\n",
      "                                                                                                  \n",
      " weather_snn_3_dropout17 (Alpha  (None, 512)         0           ['weather_snn_3_dense16[0][0]']  \n",
      " Dropout)                                                                                         \n",
      "                                                                                                  \n",
      " weather_snn_3_dense17 (Dense)  (None, 512)          262656      ['weather_snn_3_dropout17[0][0]']\n",
      "                                                                                                  \n",
      " weather_snn_3_dropout18 (Alpha  (None, 512)         0           ['weather_snn_3_dense17[0][0]']  \n",
      " Dropout)                                                                                         \n",
      "                                                                                                  \n",
      " weather_snn_3_dense18 (Dense)  (None, 512)          262656      ['weather_snn_3_dropout18[0][0]']\n",
      "                                                                                                  \n",
      " weather_snn_3_dropout19 (Alpha  (None, 512)         0           ['weather_snn_3_dense18[0][0]']  \n",
      " Dropout)                                                                                         \n",
      "                                                                                                  \n",
      " weather_snn_3_output (Dense)   (None, 2)            1024        ['weather_snn_3_dropout19[0][0]']\n",
      "                                                                                                  \n",
      " weather_snn_3_distribution (Di  ((None, 1),         0           ['weather_snn_3_output[0][0]']   \n",
      " stributionLambda)               (None, 1))                                                       \n",
      "                                                                                                  \n",
      " weather_snn_3_projection (Dens  (None, 50)          25600       ['weather_snn_3_dropout13[0][0]']\n",
      " e)                                                                                               \n",
      "                                                                                                  \n",
      "==================================================================================================\n",
      "Total params: 4,502,528\n",
      "Trainable params: 4,502,528\n",
      "Non-trainable params: 0\n",
      "__________________________________________________________________________________________________\n",
      "\n",
      "========================================\n",
      " Self-Normalizing Network 4 for weather prediction\n",
      "========================================\n",
      "\n",
      "Model: \"weather_snn_4\"\n",
      "__________________________________________________________________________________________________\n",
      " Layer (type)                   Output Shape         Param #     Connected to                     \n",
      "==================================================================================================\n",
      " weather_snn_4_feature_vector (  [(None, 20)]        0           []                               \n",
      " InputLayer)                                                                                      \n",
      "                                                                                                  \n",
      " weather_snn_4_dropout1 (AlphaD  (None, 20)          0           ['weather_snn_4_feature_vector[0]\n",
      " ropout)                                                         [0]']                            \n",
      "                                                                                                  \n",
      " weather_snn_4_dense1 (Dense)   (None, 512)          10752       ['weather_snn_4_dropout1[0][0]'] \n",
      "                                                                                                  \n",
      " weather_snn_4_dropout2 (AlphaD  (None, 512)         0           ['weather_snn_4_dense1[0][0]']   \n",
      " ropout)                                                                                          \n",
      "                                                                                                  \n",
      " weather_snn_4_dense2 (Dense)   (None, 512)          262656      ['weather_snn_4_dropout2[0][0]'] \n",
      "                                                                                                  \n",
      " weather_snn_4_dropout3 (AlphaD  (None, 512)         0           ['weather_snn_4_dense2[0][0]']   \n",
      " ropout)                                                                                          \n",
      "                                                                                                  \n",
      " weather_snn_4_dense3 (Dense)   (None, 512)          262656      ['weather_snn_4_dropout3[0][0]'] \n",
      "                                                                                                  \n",
      " weather_snn_4_dropout4 (AlphaD  (None, 512)         0           ['weather_snn_4_dense3[0][0]']   \n",
      " ropout)                                                                                          \n",
      "                                                                                                  \n",
      " weather_snn_4_dense4 (Dense)   (None, 512)          262656      ['weather_snn_4_dropout4[0][0]'] \n",
      "                                                                                                  \n",
      " weather_snn_4_dropout5 (AlphaD  (None, 512)         0           ['weather_snn_4_dense4[0][0]']   \n",
      " ropout)                                                                                          \n",
      "                                                                                                  \n",
      " weather_snn_4_dense5 (Dense)   (None, 512)          262656      ['weather_snn_4_dropout5[0][0]'] \n",
      "                                                                                                  \n",
      " weather_snn_4_dropout6 (AlphaD  (None, 512)         0           ['weather_snn_4_dense5[0][0]']   \n",
      " ropout)                                                                                          \n",
      "                                                                                                  \n",
      " weather_snn_4_dense6 (Dense)   (None, 512)          262656      ['weather_snn_4_dropout6[0][0]'] \n",
      "                                                                                                  \n",
      " weather_snn_4_dropout7 (AlphaD  (None, 512)         0           ['weather_snn_4_dense6[0][0]']   \n",
      " ropout)                                                                                          \n",
      "                                                                                                  \n",
      " weather_snn_4_dense7 (Dense)   (None, 512)          262656      ['weather_snn_4_dropout7[0][0]'] \n",
      "                                                                                                  \n",
      " weather_snn_4_dropout8 (AlphaD  (None, 512)         0           ['weather_snn_4_dense7[0][0]']   \n",
      " ropout)                                                                                          \n",
      "                                                                                                  \n",
      " weather_snn_4_dense8 (Dense)   (None, 512)          262656      ['weather_snn_4_dropout8[0][0]'] \n",
      "                                                                                                  \n",
      " weather_snn_4_dropout9 (AlphaD  (None, 512)         0           ['weather_snn_4_dense8[0][0]']   \n",
      " ropout)                                                                                          \n",
      "                                                                                                  \n",
      " weather_snn_4_dense9 (Dense)   (None, 512)          262656      ['weather_snn_4_dropout9[0][0]'] \n",
      "                                                                                                  \n",
      " weather_snn_4_dropout10 (Alpha  (None, 512)         0           ['weather_snn_4_dense9[0][0]']   \n",
      " Dropout)                                                                                         \n",
      "                                                                                                  \n",
      " weather_snn_4_dense10 (Dense)  (None, 512)          262656      ['weather_snn_4_dropout10[0][0]']\n",
      "                                                                                                  \n",
      " weather_snn_4_dropout11 (Alpha  (None, 512)         0           ['weather_snn_4_dense10[0][0]']  \n",
      " Dropout)                                                                                         \n",
      "                                                                                                  \n",
      " weather_snn_4_dense11 (Dense)  (None, 512)          262656      ['weather_snn_4_dropout11[0][0]']\n",
      "                                                                                                  \n",
      " weather_snn_4_dropout12 (Alpha  (None, 512)         0           ['weather_snn_4_dense11[0][0]']  \n",
      " Dropout)                                                                                         \n",
      "                                                                                                  \n",
      " weather_snn_4_dense12 (Dense)  (None, 512)          262656      ['weather_snn_4_dropout12[0][0]']\n",
      "                                                                                                  \n",
      " weather_snn_4_dropout13 (Alpha  (None, 512)         0           ['weather_snn_4_dense12[0][0]']  \n",
      " Dropout)                                                                                         \n",
      "                                                                                                  \n",
      " weather_snn_4_dense13 (Dense)  (None, 512)          262656      ['weather_snn_4_dropout13[0][0]']\n",
      "                                                                                                  \n",
      " weather_snn_4_dropout14 (Alpha  (None, 512)         0           ['weather_snn_4_dense13[0][0]']  \n",
      " Dropout)                                                                                         \n",
      "                                                                                                  \n",
      " weather_snn_4_dense14 (Dense)  (None, 512)          262656      ['weather_snn_4_dropout14[0][0]']\n",
      "                                                                                                  \n",
      " weather_snn_4_dropout15 (Alpha  (None, 512)         0           ['weather_snn_4_dense14[0][0]']  \n",
      " Dropout)                                                                                         \n",
      "                                                                                                  \n",
      " weather_snn_4_dense15 (Dense)  (None, 512)          262656      ['weather_snn_4_dropout15[0][0]']\n",
      "                                                                                                  \n",
      " weather_snn_4_dropout16 (Alpha  (None, 512)         0           ['weather_snn_4_dense15[0][0]']  \n",
      " Dropout)                                                                                         \n",
      "                                                                                                  \n",
      " weather_snn_4_dense16 (Dense)  (None, 512)          262656      ['weather_snn_4_dropout16[0][0]']\n",
      "                                                                                                  \n",
      " weather_snn_4_dropout17 (Alpha  (None, 512)         0           ['weather_snn_4_dense16[0][0]']  \n",
      " Dropout)                                                                                         \n",
      "                                                                                                  \n",
      " weather_snn_4_dense17 (Dense)  (None, 512)          262656      ['weather_snn_4_dropout17[0][0]']\n",
      "                                                                                                  \n",
      " weather_snn_4_dropout18 (Alpha  (None, 512)         0           ['weather_snn_4_dense17[0][0]']  \n",
      " Dropout)                                                                                         \n",
      "                                                                                                  \n",
      " weather_snn_4_dense18 (Dense)  (None, 512)          262656      ['weather_snn_4_dropout18[0][0]']\n",
      "                                                                                                  \n",
      " weather_snn_4_dropout19 (Alpha  (None, 512)         0           ['weather_snn_4_dense18[0][0]']  \n",
      " Dropout)                                                                                         \n",
      "                                                                                                  \n",
      " weather_snn_4_output (Dense)   (None, 2)            1024        ['weather_snn_4_dropout19[0][0]']\n",
      "                                                                                                  \n",
      " weather_snn_4_distribution (Di  ((None, 1),         0           ['weather_snn_4_output[0][0]']   \n",
      " stributionLambda)               (None, 1))                                                       \n",
      "                                                                                                  \n",
      " weather_snn_4_projection (Dens  (None, 50)          25600       ['weather_snn_4_dropout13[0][0]']\n",
      " e)                                                                                               \n",
      "                                                                                                  \n",
      "==================================================================================================\n",
      "Total params: 4,502,528\n",
      "Trainable params: 4,502,528\n",
      "Non-trainable params: 0\n",
      "__________________________________________________________________________________________________\n",
      "\n",
      "========================================\n",
      " Self-Normalizing Network 5 for weather prediction\n",
      "========================================\n",
      "\n",
      "Model: \"weather_snn_5\"\n",
      "__________________________________________________________________________________________________\n",
      " Layer (type)                   Output Shape         Param #     Connected to                     \n",
      "==================================================================================================\n",
      " weather_snn_5_feature_vector (  [(None, 20)]        0           []                               \n",
      " InputLayer)                                                                                      \n",
      "                                                                                                  \n",
      " weather_snn_5_dropout1 (AlphaD  (None, 20)          0           ['weather_snn_5_feature_vector[0]\n",
      " ropout)                                                         [0]']                            \n",
      "                                                                                                  \n",
      " weather_snn_5_dense1 (Dense)   (None, 512)          10752       ['weather_snn_5_dropout1[0][0]'] \n",
      "                                                                                                  \n",
      " weather_snn_5_dropout2 (AlphaD  (None, 512)         0           ['weather_snn_5_dense1[0][0]']   \n",
      " ropout)                                                                                          \n",
      "                                                                                                  \n",
      " weather_snn_5_dense2 (Dense)   (None, 512)          262656      ['weather_snn_5_dropout2[0][0]'] \n",
      "                                                                                                  \n",
      " weather_snn_5_dropout3 (AlphaD  (None, 512)         0           ['weather_snn_5_dense2[0][0]']   \n",
      " ropout)                                                                                          \n",
      "                                                                                                  \n",
      " weather_snn_5_dense3 (Dense)   (None, 512)          262656      ['weather_snn_5_dropout3[0][0]'] \n",
      "                                                                                                  \n",
      " weather_snn_5_dropout4 (AlphaD  (None, 512)         0           ['weather_snn_5_dense3[0][0]']   \n",
      " ropout)                                                                                          \n",
      "                                                                                                  \n",
      " weather_snn_5_dense4 (Dense)   (None, 512)          262656      ['weather_snn_5_dropout4[0][0]'] \n",
      "                                                                                                  \n",
      " weather_snn_5_dropout5 (AlphaD  (None, 512)         0           ['weather_snn_5_dense4[0][0]']   \n",
      " ropout)                                                                                          \n",
      "                                                                                                  \n",
      " weather_snn_5_dense5 (Dense)   (None, 512)          262656      ['weather_snn_5_dropout5[0][0]'] \n",
      "                                                                                                  \n",
      " weather_snn_5_dropout6 (AlphaD  (None, 512)         0           ['weather_snn_5_dense5[0][0]']   \n",
      " ropout)                                                                                          \n",
      "                                                                                                  \n",
      " weather_snn_5_dense6 (Dense)   (None, 512)          262656      ['weather_snn_5_dropout6[0][0]'] \n",
      "                                                                                                  \n",
      " weather_snn_5_dropout7 (AlphaD  (None, 512)         0           ['weather_snn_5_dense6[0][0]']   \n",
      " ropout)                                                                                          \n",
      "                                                                                                  \n",
      " weather_snn_5_dense7 (Dense)   (None, 512)          262656      ['weather_snn_5_dropout7[0][0]'] \n",
      "                                                                                                  \n",
      " weather_snn_5_dropout8 (AlphaD  (None, 512)         0           ['weather_snn_5_dense7[0][0]']   \n",
      " ropout)                                                                                          \n",
      "                                                                                                  \n",
      " weather_snn_5_dense8 (Dense)   (None, 512)          262656      ['weather_snn_5_dropout8[0][0]'] \n",
      "                                                                                                  \n",
      " weather_snn_5_dropout9 (AlphaD  (None, 512)         0           ['weather_snn_5_dense8[0][0]']   \n",
      " ropout)                                                                                          \n",
      "                                                                                                  \n",
      " weather_snn_5_dense9 (Dense)   (None, 512)          262656      ['weather_snn_5_dropout9[0][0]'] \n",
      "                                                                                                  \n",
      " weather_snn_5_dropout10 (Alpha  (None, 512)         0           ['weather_snn_5_dense9[0][0]']   \n",
      " Dropout)                                                                                         \n",
      "                                                                                                  \n",
      " weather_snn_5_dense10 (Dense)  (None, 512)          262656      ['weather_snn_5_dropout10[0][0]']\n",
      "                                                                                                  \n",
      " weather_snn_5_dropout11 (Alpha  (None, 512)         0           ['weather_snn_5_dense10[0][0]']  \n",
      " Dropout)                                                                                         \n",
      "                                                                                                  \n",
      " weather_snn_5_dense11 (Dense)  (None, 512)          262656      ['weather_snn_5_dropout11[0][0]']\n",
      "                                                                                                  \n",
      " weather_snn_5_dropout12 (Alpha  (None, 512)         0           ['weather_snn_5_dense11[0][0]']  \n",
      " Dropout)                                                                                         \n",
      "                                                                                                  \n",
      " weather_snn_5_dense12 (Dense)  (None, 512)          262656      ['weather_snn_5_dropout12[0][0]']\n",
      "                                                                                                  \n",
      " weather_snn_5_dropout13 (Alpha  (None, 512)         0           ['weather_snn_5_dense12[0][0]']  \n",
      " Dropout)                                                                                         \n",
      "                                                                                                  \n",
      " weather_snn_5_dense13 (Dense)  (None, 512)          262656      ['weather_snn_5_dropout13[0][0]']\n",
      "                                                                                                  \n",
      " weather_snn_5_dropout14 (Alpha  (None, 512)         0           ['weather_snn_5_dense13[0][0]']  \n",
      " Dropout)                                                                                         \n",
      "                                                                                                  \n",
      " weather_snn_5_dense14 (Dense)  (None, 512)          262656      ['weather_snn_5_dropout14[0][0]']\n",
      "                                                                                                  \n",
      " weather_snn_5_dropout15 (Alpha  (None, 512)         0           ['weather_snn_5_dense14[0][0]']  \n",
      " Dropout)                                                                                         \n",
      "                                                                                                  \n",
      " weather_snn_5_dense15 (Dense)  (None, 512)          262656      ['weather_snn_5_dropout15[0][0]']\n",
      "                                                                                                  \n",
      " weather_snn_5_dropout16 (Alpha  (None, 512)         0           ['weather_snn_5_dense15[0][0]']  \n",
      " Dropout)                                                                                         \n",
      "                                                                                                  \n",
      " weather_snn_5_dense16 (Dense)  (None, 512)          262656      ['weather_snn_5_dropout16[0][0]']\n",
      "                                                                                                  \n",
      " weather_snn_5_dropout17 (Alpha  (None, 512)         0           ['weather_snn_5_dense16[0][0]']  \n",
      " Dropout)                                                                                         \n",
      "                                                                                                  \n",
      " weather_snn_5_dense17 (Dense)  (None, 512)          262656      ['weather_snn_5_dropout17[0][0]']\n",
      "                                                                                                  \n",
      " weather_snn_5_dropout18 (Alpha  (None, 512)         0           ['weather_snn_5_dense17[0][0]']  \n",
      " Dropout)                                                                                         \n",
      "                                                                                                  \n",
      " weather_snn_5_dense18 (Dense)  (None, 512)          262656      ['weather_snn_5_dropout18[0][0]']\n",
      "                                                                                                  \n",
      " weather_snn_5_dropout19 (Alpha  (None, 512)         0           ['weather_snn_5_dense18[0][0]']  \n",
      " Dropout)                                                                                         \n",
      "                                                                                                  \n",
      " weather_snn_5_output (Dense)   (None, 2)            1024        ['weather_snn_5_dropout19[0][0]']\n",
      "                                                                                                  \n",
      " weather_snn_5_distribution (Di  ((None, 1),         0           ['weather_snn_5_output[0][0]']   \n",
      " stributionLambda)               (None, 1))                                                       \n",
      "                                                                                                  \n",
      " weather_snn_5_projection (Dens  (None, 50)          25600       ['weather_snn_5_dropout13[0][0]']\n",
      " e)                                                                                               \n",
      "                                                                                                  \n",
      "==================================================================================================\n",
      "Total params: 4,502,528\n",
      "Trainable params: 4,502,528\n",
      "Non-trainable params: 0\n",
      "__________________________________________________________________________________________________\n",
      "\n"
     ]
    }
   ],
   "source": [
    "for nn_idx in range(ensemble_size):\n",
    "    model_name = f'weather_snn_{nn_idx + 1}'\n",
    "    serialization_name = os.path.join(model_dir, model_name + '.h5')\n",
    "    regression_output_name = f'{model_name}_distribution'\n",
    "    projection_output_name = f'{model_name}_projection'\n",
    "    printable_name = f'Self-Normalizing Network ' \\\n",
    "                     f'{nn_idx + 1} for weather prediction'\n",
    "    print('========================================')\n",
    "    print(' ' + printable_name)\n",
    "    print('========================================')\n",
    "    print('')\n",
    "    new_model = build_neural_network(\n",
    "        input_size=num_features,\n",
    "        layer_size=nn_layer_size,\n",
    "        n_layers=nn_depth,\n",
    "        dropout_rate=nn_dropout,\n",
    "        scale_coeff=postprocessing_scalers[nn_idx].scale_[0],\n",
    "        nn_name=model_name\n",
    "    )\n",
    "    new_model.summary()\n",
    "    print('')\n",
    "    new_model.load_weights(serialization_name)\n",
    "    deep_ensemble.append(new_model)\n",
    "    del new_model"
   ]
  },
  {
   "cell_type": "code",
   "execution_count": 238,
   "outputs": [],
   "source": [
    "skiron_cube= xr.open_zarr(dev_in_name)\n",
    "mito_cube= xr.open_zarr(dev_out_name)"
   ],
   "metadata": {
    "collapsed": false,
    "pycharm": {
     "name": "#%%\n"
    }
   }
  },
  {
   "cell_type": "code",
   "execution_count": 239,
   "outputs": [
    {
     "data": {
      "text/plain": "<matplotlib.collections.QuadMesh at 0x29723591ac0>"
     },
     "execution_count": 239,
     "metadata": {},
     "output_type": "execute_result"
    },
    {
     "data": {
      "text/plain": "<Figure size 432x288 with 2 Axes>",
      "image/png": "[encoded data removed]"
     },
     "metadata": {
      "needs_background": "light"
     },
     "output_type": "display_data"
    }
   ],
   "source": [
    "skiron_cube.temperature[0].plot()"
   ],
   "metadata": {
    "collapsed": false,
    "pycharm": {
     "name": "#%%\n"
    }
   }
  },
  {
   "cell_type": "code",
   "execution_count": 240,
   "outputs": [
    {
     "data": {
      "text/plain": "<matplotlib.collections.QuadMesh at 0x297230b6cd0>"
     },
     "execution_count": 240,
     "metadata": {},
     "output_type": "execute_result"
    },
    {
     "data": {
      "text/plain": "<Figure size 432x288 with 2 Axes>",
      "image/png": "[encoded data removed]"
     },
     "metadata": {
      "needs_background": "light"
     },
     "output_type": "display_data"
    }
   ],
   "source": [
    "mito_cube.T[0].plot()"
   ],
   "metadata": {
    "collapsed": false,
    "pycharm": {
     "name": "#%%\n"
    }
   }
  },
  {
   "cell_type": "code",
   "execution_count": 236,
   "id": "ff56ae34",
   "metadata": {},
   "outputs": [
    {
     "name": "stdout",
     "output_type": "stream",
     "text": [
      "Row number is 1322863.\n",
      "Column number is 20.\n"
     ]
    }
   ],
   "source": [
    "df_in = xr.open_zarr(dev_in_name).to_dataframe().dropna()#pd.read_csv(dev_in_name)\n",
    "print(f'Row number is {df_in.shape[0]}.')\n",
    "print(f'Column number is {df_in.shape[1]}.')"
   ]
  },
  {
   "cell_type": "code",
   "execution_count": 232,
   "id": "81da8770",
   "metadata": {},
   "outputs": [
    {
     "data": {
      "text/plain": "                                         10_metre_u_wind_component  \\\ntime                lat       lon                                    \n2018-01-23 08:00:00 34.641532 10.203631                        NaN   \n                              10.223593                        NaN   \n                              10.243556                        NaN   \n                              10.263518                        NaN   \n                              10.283480                        NaN   \n\n                                         10_metre_v_wind_component  \\\ntime                lat       lon                                    \n2018-01-23 08:00:00 34.641532 10.203631                        NaN   \n                              10.223593                        NaN   \n                              10.243556                        NaN   \n                              10.263518                        NaN   \n                              10.283480                        NaN   \n\n                                         2_metre_temperature  evaporation  \\\ntime                lat       lon                                           \n2018-01-23 08:00:00 34.641532 10.203631                  NaN          NaN   \n                              10.223593                  NaN          NaN   \n                              10.243556                  NaN          NaN   \n                              10.263518                  NaN          NaN   \n                              10.283480                  NaN          NaN   \n\n                                         latent_heat_flux  \\\ntime                lat       lon                           \n2018-01-23 08:00:00 34.641532 10.203631               NaN   \n                              10.223593               NaN   \n                              10.243556               NaN   \n                              10.263518               NaN   \n                              10.283480               NaN   \n\n                                         mean_sea_level_pressure  \\\ntime                lat       lon                                  \n2018-01-23 08:00:00 34.641532 10.203631                      NaN   \n                              10.223593                      NaN   \n                              10.243556                      NaN   \n                              10.263518                      NaN   \n                              10.283480                      NaN   \n\n                                         sensible_heat_flux  \\\ntime                lat       lon                             \n2018-01-23 08:00:00 34.641532 10.203631                 NaN   \n                              10.223593                 NaN   \n                              10.243556                 NaN   \n                              10.263518                 NaN   \n                              10.283480                 NaN   \n\n                                         specific_humidity  temperature  \\\ntime                lat       lon                                         \n2018-01-23 08:00:00 34.641532 10.203631                NaN          NaN   \n                              10.223593                NaN          NaN   \n                              10.243556                NaN          NaN   \n                              10.263518                NaN          NaN   \n                              10.283480                NaN          NaN   \n\n                                         total_cloud_cover  \\\ntime                lat       lon                            \n2018-01-23 08:00:00 34.641532 10.203631                NaN   \n                              10.223593                NaN   \n                              10.243556                NaN   \n                              10.263518                NaN   \n                              10.283480                NaN   \n\n                                         total_precipitation  \\\ntime                lat       lon                              \n2018-01-23 08:00:00 34.641532 10.203631                  NaN   \n                              10.223593                  NaN   \n                              10.243556                  NaN   \n                              10.263518                  NaN   \n                              10.283480                  NaN   \n\n                                         u_component_of_wind_h120  \\\ntime                lat       lon                                   \n2018-01-23 08:00:00 34.641532 10.203631                       NaN   \n                              10.223593                       NaN   \n                              10.243556                       NaN   \n                              10.263518                       NaN   \n                              10.283480                       NaN   \n\n                                         u_component_of_wind_h180  \\\ntime                lat       lon                                   \n2018-01-23 08:00:00 34.641532 10.203631                       NaN   \n                              10.223593                       NaN   \n                              10.243556                       NaN   \n                              10.263518                       NaN   \n                              10.283480                       NaN   \n\n                                         u_component_of_wind_h40  \\\ntime                lat       lon                                  \n2018-01-23 08:00:00 34.641532 10.203631                      NaN   \n                              10.223593                      NaN   \n                              10.243556                      NaN   \n                              10.263518                      NaN   \n                              10.283480                      NaN   \n\n                                         u_component_of_wind_h80  unknown  \\\ntime                lat       lon                                           \n2018-01-23 08:00:00 34.641532 10.203631                      NaN      NaN   \n                              10.223593                      NaN      NaN   \n                              10.243556                      NaN      NaN   \n                              10.263518                      NaN      NaN   \n                              10.283480                      NaN      NaN   \n\n                                         v_component_of_wind_h120  \\\ntime                lat       lon                                   \n2018-01-23 08:00:00 34.641532 10.203631                       NaN   \n                              10.223593                       NaN   \n                              10.243556                       NaN   \n                              10.263518                       NaN   \n                              10.283480                       NaN   \n\n                                         v_component_of_wind_h180  \\\ntime                lat       lon                                   \n2018-01-23 08:00:00 34.641532 10.203631                       NaN   \n                              10.223593                       NaN   \n                              10.243556                       NaN   \n                              10.263518                       NaN   \n                              10.283480                       NaN   \n\n                                         v_component_of_wind_h40  \\\ntime                lat       lon                                  \n2018-01-23 08:00:00 34.641532 10.203631                      NaN   \n                              10.223593                      NaN   \n                              10.243556                      NaN   \n                              10.263518                      NaN   \n                              10.283480                      NaN   \n\n                                         v_component_of_wind_h80  \ntime                lat       lon                                 \n2018-01-23 08:00:00 34.641532 10.203631                      NaN  \n                              10.223593                      NaN  \n                              10.243556                      NaN  \n                              10.263518                      NaN  \n                              10.283480                      NaN  ",
      "text/html": "<div>\n<style scoped>\n    .dataframe tbody tr th:only-of-type {\n        vertical-align: middle;\n    }\n\n    .dataframe tbody tr th {\n        vertical-align: top;\n    }\n\n    .dataframe thead th {\n        text-align: right;\n    }\n</style>\n<table border=\"1\" class=\"dataframe\">\n  <thead>\n    <tr style=\"text-align: right;\">\n      <th></th>\n      <th></th>\n      <th></th>\n      <th>10_metre_u_wind_component</th>\n      <th>10_metre_v_wind_component</th>\n      <th>2_metre_temperature</th>\n      <th>evaporation</th>\n      <th>latent_heat_flux</th>\n      <th>mean_sea_level_pressure</th>\n      <th>sensible_heat_flux</th>\n      <th>specific_humidity</th>\n      <th>temperature</th>\n      <th>total_cloud_cover</th>\n      <th>total_precipitation</th>\n      <th>u_component_of_wind_h120</th>\n      <th>u_component_of_wind_h180</th>\n      <th>u_component_of_wind_h40</th>\n      <th>u_component_of_wind_h80</th>\n      <th>unknown</th>\n      <th>v_component_of_wind_h120</th>\n      <th>v_component_of_wind_h180</th>\n      <th>v_component_of_wind_h40</th>\n      <th>v_component_of_wind_h80</th>\n    </tr>\n    <tr>\n      <th>time</th>\n      <th>lat</th>\n      <th>lon</th>\n      <th></th>\n      <th></th>\n      <th></th>\n      <th></th>\n      <th></th>\n      <th></th>\n      <th></th>\n      <th></th>\n      <th></th>\n      <th></th>\n      <th></th>\n      <th></th>\n      <th></th>\n      <th></th>\n      <th></th>\n      <th></th>\n      <th></th>\n      <th></th>\n      <th></th>\n      <th></th>\n    </tr>\n  </thead>\n  <tbody>\n    <tr>\n      <th rowspan=\"5\" valign=\"top\">2018-01-23 08:00:00</th>\n      <th rowspan=\"5\" valign=\"top\">34.641532</th>\n      <th>10.203631</th>\n      <td>NaN</td>\n      <td>NaN</td>\n      <td>NaN</td>\n      <td>NaN</td>\n      <td>NaN</td>\n      <td>NaN</td>\n      <td>NaN</td>\n      <td>NaN</td>\n      <td>NaN</td>\n      <td>NaN</td>\n      <td>NaN</td>\n      <td>NaN</td>\n      <td>NaN</td>\n      <td>NaN</td>\n      <td>NaN</td>\n      <td>NaN</td>\n      <td>NaN</td>\n      <td>NaN</td>\n      <td>NaN</td>\n      <td>NaN</td>\n    </tr>\n    <tr>\n      <th>10.223593</th>\n      <td>NaN</td>\n      <td>NaN</td>\n      <td>NaN</td>\n      <td>NaN</td>\n      <td>NaN</td>\n      <td>NaN</td>\n      <td>NaN</td>\n      <td>NaN</td>\n      <td>NaN</td>\n      <td>NaN</td>\n      <td>NaN</td>\n      <td>NaN</td>\n      <td>NaN</td>\n      <td>NaN</td>\n      <td>NaN</td>\n      <td>NaN</td>\n      <td>NaN</td>\n      <td>NaN</td>\n      <td>NaN</td>\n      <td>NaN</td>\n    </tr>\n    <tr>\n      <th>10.243556</th>\n      <td>NaN</td>\n      <td>NaN</td>\n      <td>NaN</td>\n      <td>NaN</td>\n      <td>NaN</td>\n      <td>NaN</td>\n      <td>NaN</td>\n      <td>NaN</td>\n      <td>NaN</td>\n      <td>NaN</td>\n      <td>NaN</td>\n      <td>NaN</td>\n      <td>NaN</td>\n      <td>NaN</td>\n      <td>NaN</td>\n      <td>NaN</td>\n      <td>NaN</td>\n      <td>NaN</td>\n      <td>NaN</td>\n      <td>NaN</td>\n    </tr>\n    <tr>\n      <th>10.263518</th>\n      <td>NaN</td>\n      <td>NaN</td>\n      <td>NaN</td>\n      <td>NaN</td>\n      <td>NaN</td>\n      <td>NaN</td>\n      <td>NaN</td>\n      <td>NaN</td>\n      <td>NaN</td>\n      <td>NaN</td>\n      <td>NaN</td>\n      <td>NaN</td>\n      <td>NaN</td>\n      <td>NaN</td>\n      <td>NaN</td>\n      <td>NaN</td>\n      <td>NaN</td>\n      <td>NaN</td>\n      <td>NaN</td>\n      <td>NaN</td>\n    </tr>\n    <tr>\n      <th>10.283480</th>\n      <td>NaN</td>\n      <td>NaN</td>\n      <td>NaN</td>\n      <td>NaN</td>\n      <td>NaN</td>\n      <td>NaN</td>\n      <td>NaN</td>\n      <td>NaN</td>\n      <td>NaN</td>\n      <td>NaN</td>\n      <td>NaN</td>\n      <td>NaN</td>\n      <td>NaN</td>\n      <td>NaN</td>\n      <td>NaN</td>\n      <td>NaN</td>\n      <td>NaN</td>\n      <td>NaN</td>\n      <td>NaN</td>\n      <td>NaN</td>\n    </tr>\n  </tbody>\n</table>\n</div>"
     },
     "execution_count": 232,
     "metadata": {},
     "output_type": "execute_result"
    }
   ],
   "source": [
    "df_in.head()"
   ]
  },
  {
   "cell_type": "code",
   "execution_count": 237,
   "id": "cc8b797f",
   "metadata": {},
   "outputs": [
    {
     "name": "stdout",
     "output_type": "stream",
     "text": [
      "Row number is 1237656.\n",
      "Column number is 5.\n"
     ]
    }
   ],
   "source": [
    "df_out = xr.open_zarr(dev_out_name).to_dataframe().dropna()#pd.read_csv(dev_out_name)\n",
    "print(f'Row number is {df_out.shape[0]}.')\n",
    "print(f'Column number is {df_out.shape[1]}.')"
   ]
  },
  {
   "cell_type": "code",
   "execution_count": 233,
   "id": "636d330e",
   "metadata": {},
   "outputs": [
    {
     "data": {
      "text/plain": "                                         Eta   S   T   U   V\ntime                lat       lon                           \n2018-01-23 08:00:00 34.641532 10.203631  NaN NaN NaN NaN NaN\n                              10.223593  NaN NaN NaN NaN NaN\n                              10.243556  NaN NaN NaN NaN NaN\n                              10.263518  NaN NaN NaN NaN NaN\n                              10.283480  NaN NaN NaN NaN NaN\n...                                      ...  ..  ..  ..  ..\n2018-01-29 02:00:00 32.545494 12.758801  NaN NaN NaN NaN NaN\n                              12.778763  NaN NaN NaN NaN NaN\n                              12.798726  NaN NaN NaN NaN NaN\n                              12.818688  NaN NaN NaN NaN NaN\n                              12.838650  NaN NaN NaN NaN NaN\n\n[1959622 rows x 5 columns]",
      "text/html": "<div>\n<style scoped>\n    .dataframe tbody tr th:only-of-type {\n        vertical-align: middle;\n    }\n\n    .dataframe tbody tr th {\n        vertical-align: top;\n    }\n\n    .dataframe thead th {\n        text-align: right;\n    }\n</style>\n<table border=\"1\" class=\"dataframe\">\n  <thead>\n    <tr style=\"text-align: right;\">\n      <th></th>\n      <th></th>\n      <th></th>\n      <th>Eta</th>\n      <th>S</th>\n      <th>T</th>\n      <th>U</th>\n      <th>V</th>\n    </tr>\n    <tr>\n      <th>time</th>\n      <th>lat</th>\n      <th>lon</th>\n      <th></th>\n      <th></th>\n      <th></th>\n      <th></th>\n      <th></th>\n    </tr>\n  </thead>\n  <tbody>\n    <tr>\n      <th rowspan=\"5\" valign=\"top\">2018-01-23 08:00:00</th>\n      <th rowspan=\"5\" valign=\"top\">34.641532</th>\n      <th>10.203631</th>\n      <td>NaN</td>\n      <td>NaN</td>\n      <td>NaN</td>\n      <td>NaN</td>\n      <td>NaN</td>\n    </tr>\n    <tr>\n      <th>10.223593</th>\n      <td>NaN</td>\n      <td>NaN</td>\n      <td>NaN</td>\n      <td>NaN</td>\n      <td>NaN</td>\n    </tr>\n    <tr>\n      <th>10.243556</th>\n      <td>NaN</td>\n      <td>NaN</td>\n      <td>NaN</td>\n      <td>NaN</td>\n      <td>NaN</td>\n    </tr>\n    <tr>\n      <th>10.263518</th>\n      <td>NaN</td>\n      <td>NaN</td>\n      <td>NaN</td>\n      <td>NaN</td>\n      <td>NaN</td>\n    </tr>\n    <tr>\n      <th>10.283480</th>\n      <td>NaN</td>\n      <td>NaN</td>\n      <td>NaN</td>\n      <td>NaN</td>\n      <td>NaN</td>\n    </tr>\n    <tr>\n      <th>...</th>\n      <th>...</th>\n      <th>...</th>\n      <td>...</td>\n      <td>...</td>\n      <td>...</td>\n      <td>...</td>\n      <td>...</td>\n    </tr>\n    <tr>\n      <th rowspan=\"5\" valign=\"top\">2018-01-29 02:00:00</th>\n      <th rowspan=\"5\" valign=\"top\">32.545494</th>\n      <th>12.758801</th>\n      <td>NaN</td>\n      <td>NaN</td>\n      <td>NaN</td>\n      <td>NaN</td>\n      <td>NaN</td>\n    </tr>\n    <tr>\n      <th>12.778763</th>\n      <td>NaN</td>\n      <td>NaN</td>\n      <td>NaN</td>\n      <td>NaN</td>\n      <td>NaN</td>\n    </tr>\n    <tr>\n      <th>12.798726</th>\n      <td>NaN</td>\n      <td>NaN</td>\n      <td>NaN</td>\n      <td>NaN</td>\n      <td>NaN</td>\n    </tr>\n    <tr>\n      <th>12.818688</th>\n      <td>NaN</td>\n      <td>NaN</td>\n      <td>NaN</td>\n      <td>NaN</td>\n      <td>NaN</td>\n    </tr>\n    <tr>\n      <th>12.838650</th>\n      <td>NaN</td>\n      <td>NaN</td>\n      <td>NaN</td>\n      <td>NaN</td>\n      <td>NaN</td>\n    </tr>\n  </tbody>\n</table>\n<p>1959622 rows × 5 columns</p>\n</div>"
     },
     "execution_count": 233,
     "metadata": {},
     "output_type": "execute_result"
    }
   ],
   "source": [
    "df_out"
   ]
  },
  {
   "cell_type": "code",
   "execution_count": 166,
   "id": "1a49d92f",
   "metadata": {},
   "outputs": [
    {
     "data": {
      "text/plain": "\"inputs = np.vstack([\\n    df_in.iloc[:, 6:].to_numpy().astype(np.float64),\\n    df_out.iloc[:, 6:].to_numpy().astype(np.float64)\\n])\\ntargets = np.concatenate([\\n    df_in['fact_temperature'].to_numpy().astype(np.float64),\\n    df_out['fact_temperature'].to_numpy().astype(np.float64)\\n])\""
     },
     "execution_count": 166,
     "metadata": {},
     "output_type": "execute_result"
    }
   ],
   "source": [
    "'''inputs = np.vstack([\n",
    "    df_in.iloc[:, 6:].to_numpy().astype(np.float64),\n",
    "    df_out.iloc[:, 6:].to_numpy().astype(np.float64)\n",
    "])\n",
    "targets = np.concatenate([\n",
    "    df_in['fact_temperature'].to_numpy().astype(np.float64),\n",
    "    df_out['fact_temperature'].to_numpy().astype(np.float64)\n",
    "])'''"
   ]
  },
  {
   "cell_type": "code",
   "execution_count": 167,
   "outputs": [
    {
     "data": {
      "text/plain": "                                           S\ntime                lat       lon           \n2018-01-23 08:00:00 34.641532 10.203631  0.0\n                              10.223593  0.0\n                              10.243556  0.0\n                              10.263518  0.0\n                              10.283480  0.0",
      "text/html": "<div>\n<style scoped>\n    .dataframe tbody tr th:only-of-type {\n        vertical-align: middle;\n    }\n\n    .dataframe tbody tr th {\n        vertical-align: top;\n    }\n\n    .dataframe thead th {\n        text-align: right;\n    }\n</style>\n<table border=\"1\" class=\"dataframe\">\n  <thead>\n    <tr style=\"text-align: right;\">\n      <th></th>\n      <th></th>\n      <th></th>\n      <th>S</th>\n    </tr>\n    <tr>\n      <th>time</th>\n      <th>lat</th>\n      <th>lon</th>\n      <th></th>\n    </tr>\n  </thead>\n  <tbody>\n    <tr>\n      <th rowspan=\"5\" valign=\"top\">2018-01-23 08:00:00</th>\n      <th rowspan=\"5\" valign=\"top\">34.641532</th>\n      <th>10.203631</th>\n      <td>0.0</td>\n    </tr>\n    <tr>\n      <th>10.223593</th>\n      <td>0.0</td>\n    </tr>\n    <tr>\n      <th>10.243556</th>\n      <td>0.0</td>\n    </tr>\n    <tr>\n      <th>10.263518</th>\n      <td>0.0</td>\n    </tr>\n    <tr>\n      <th>10.283480</th>\n      <td>0.0</td>\n    </tr>\n  </tbody>\n</table>\n</div>"
     },
     "execution_count": 167,
     "metadata": {},
     "output_type": "execute_result"
    }
   ],
   "source": [
    "df_out= df_out[['S']]\n",
    "df_out.head()"
   ],
   "metadata": {
    "collapsed": false,
    "pycharm": {
     "name": "#%%\n"
    }
   }
  },
  {
   "cell_type": "code",
   "execution_count": 168,
   "outputs": [],
   "source": [
    "inputs = df_in.to_numpy().astype(np.float64)\n",
    "targets = df_out.to_numpy().astype(np.float64)\n",
    "targets = targets.ravel()"
   ],
   "metadata": {
    "collapsed": false,
    "pycharm": {
     "name": "#%%\n"
    }
   }
  },
  {
   "cell_type": "code",
   "execution_count": 169,
   "id": "6440aa2e",
   "metadata": {},
   "outputs": [
    {
     "name": "stdout",
     "output_type": "stream",
     "text": [
      "The system predicts each sample from devset in 0.450 msecs.\n"
     ]
    }
   ],
   "source": [
    "start_inference_time = time.time()\n",
    "all_preds = predict_by_ensemble(\n",
    "    input_data=inputs,\n",
    "    preprocessing=common_preprocessor,\n",
    "    postprocessing=postprocessing_scalers,\n",
    "    ensemble=deep_ensemble,\n",
    "    minibatch=BATCH_SIZE\n",
    ")\n",
    "end_inference_time = time.time()\n",
    "inference_duration = end_inference_time - start_inference_time\n",
    "inference_duration *= 1000.0\n",
    "print('The system predicts each sample from devset in ' \\\n",
    "      '{0:.3f} msecs.'.format(inference_duration / inputs.shape[0]))"
   ]
  },
  {
   "cell_type": "code",
   "execution_count": 227,
   "outputs": [
    {
     "data": {
      "text/plain": "array([[[ 0.13607074, 13.16541692],\n        [ 0.13607074, 13.16541692],\n        [ 0.13607074, 13.16541692],\n        ...,\n        [ 0.13607074, 13.16541692],\n        [ 0.13607074, 13.16541493],\n        [ 0.13607074, 13.16541493]],\n\n       [[ 0.26448672, 10.58750791],\n        [ 0.26448672, 10.58750791],\n        [ 0.26448672, 10.58750791],\n        ...,\n        [ 0.26448672, 10.58750791],\n        [ 0.26448672, 10.58750612],\n        [ 0.26448672, 10.58750612]],\n\n       [[ 0.15523938, 11.49165631],\n        [ 0.15523938, 11.49165631],\n        [ 0.15523938, 11.49165631],\n        ...,\n        [ 0.15523938, 11.49165631],\n        [ 0.15523938, 11.49165631],\n        [ 0.15523938, 11.49165631]],\n\n       [[ 0.13545691, 11.28180014],\n        [ 0.13545691, 11.28180014],\n        [ 0.13545691, 11.28180014],\n        ...,\n        [ 0.13545691, 11.28180014],\n        [ 0.13545691, 11.28180014],\n        [ 0.13545691, 11.28180014]],\n\n       [[ 0.13518752, 13.13889051],\n        [ 0.13518752, 13.13889051],\n        [ 0.13518752, 13.13889051],\n        ...,\n        [ 0.13518752, 13.13889051],\n        [ 0.13518752, 13.1388925 ],\n        [ 0.13518752, 13.1388925 ]]])"
     },
     "execution_count": 227,
     "metadata": {},
     "output_type": "execute_result"
    }
   ],
   "source": [
    "all_preds"
   ],
   "metadata": {
    "collapsed": false,
    "pycharm": {
     "name": "#%%\n"
    }
   }
  },
  {
   "cell_type": "code",
   "execution_count": 170,
   "id": "6a8d0bc4",
   "metadata": {},
   "outputs": [],
   "source": [
    "all_uncertainty = ensemble_uncertainties_regression(all_preds)\n",
    "uncertainties = all_uncertainty['tvar']"
   ]
  },
  {
   "cell_type": "code",
   "execution_count": 171,
   "id": "d053138e",
   "metadata": {},
   "outputs": [],
   "source": [
    "all_preds_mean = all_preds[:,:,0]\n",
    "avg_preds = np.squeeze(np.mean(all_preds_mean, axis=0))\n",
    "errors = (avg_preds - targets) ** 2"
   ]
  },
  {
   "cell_type": "code",
   "execution_count": 228,
   "outputs": [
    {
     "data": {
      "text/plain": "array([0.02732021, 0.02732021, 0.02732021, ..., 0.02732021, 0.02732021,\n       0.02732021])"
     },
     "execution_count": 228,
     "metadata": {},
     "output_type": "execute_result"
    }
   ],
   "source": [
    "errors"
   ],
   "metadata": {
    "collapsed": false,
    "pycharm": {
     "name": "#%%\n"
    }
   }
  },
  {
   "cell_type": "code",
   "execution_count": 172,
   "id": "c2b565b6",
   "metadata": {},
   "outputs": [],
   "source": [
    "rejection_mse = calc_uncertainty_regection_curve(errors, uncertainties)\n",
    "retention_mse = rejection_mse[::-1]\n",
    "retention_fractions = np.linspace(0, 1, len(retention_mse))"
   ]
  },
  {
   "cell_type": "code",
   "execution_count": 173,
   "id": "c7a6ef26",
   "metadata": {},
   "outputs": [
    {
     "name": "stdout",
     "output_type": "stream",
     "text": [
      "R-AUC MSE = 3.005641685270945.\n"
     ]
    }
   ],
   "source": [
    "print(f'R-AUC MSE = {np.mean(retention_mse)}.')"
   ]
  },
  {
   "cell_type": "code",
   "execution_count": 174,
   "id": "8668a794",
   "metadata": {},
   "outputs": [
    {
     "name": "stdout",
     "output_type": "stream",
     "text": [
      "models\\yandex-shifts\\weather-baseline-catboost\\seed1.cbm = False\n"
     ]
    },
    {
     "ename": "CatBoostError",
     "evalue": "C:/Program Files (x86)/Go Agent/pipelines/BuildMaster/catboost.git/catboost/libs/model/model_import_interface.h:19: Model file doesn't exist: models\\yandex-shifts\\weather-baseline-catboost\\seed1.cbm",
     "output_type": "error",
     "traceback": [
      "\u001B[1;31m---------------------------------------------------------------------------\u001B[0m",
      "\u001B[1;31mCatBoostError\u001B[0m                             Traceback (most recent call last)",
      "Input \u001B[1;32mIn [174]\u001B[0m, in \u001B[0;36m<module>\u001B[1;34m\u001B[0m\n\u001B[0;32m      6\u001B[0m cur_catboost_name \u001B[38;5;241m=\u001B[39m os\u001B[38;5;241m.\u001B[39mpath\u001B[38;5;241m.\u001B[39mjoin(\n\u001B[0;32m      7\u001B[0m     baseline_model_dir,\n\u001B[0;32m      8\u001B[0m     \u001B[38;5;124mf\u001B[39m\u001B[38;5;124m'\u001B[39m\u001B[38;5;124mseed\u001B[39m\u001B[38;5;132;01m{\u001B[39;00mcatboost_ind\u001B[38;5;132;01m}\u001B[39;00m\u001B[38;5;124m.cbm\u001B[39m\u001B[38;5;124m'\u001B[39m\n\u001B[0;32m      9\u001B[0m )\n\u001B[0;32m     10\u001B[0m \u001B[38;5;28mprint\u001B[39m(\u001B[38;5;124mf\u001B[39m\u001B[38;5;124m'\u001B[39m\u001B[38;5;132;01m{\u001B[39;00mcur_catboost_name\u001B[38;5;132;01m}\u001B[39;00m\u001B[38;5;124m = \u001B[39m\u001B[38;5;132;01m{\u001B[39;00mos\u001B[38;5;241m.\u001B[39mpath\u001B[38;5;241m.\u001B[39misfile(cur_catboost_name)\u001B[38;5;132;01m}\u001B[39;00m\u001B[38;5;124m'\u001B[39m)\n\u001B[1;32m---> 11\u001B[0m \u001B[43mnew_catboost\u001B[49m\u001B[38;5;241;43m.\u001B[39;49m\u001B[43mload_model\u001B[49m\u001B[43m(\u001B[49m\u001B[43mcur_catboost_name\u001B[49m\u001B[43m)\u001B[49m\n\u001B[0;32m     12\u001B[0m \u001B[38;5;28mprint\u001B[39m(\u001B[38;5;124mf\u001B[39m\u001B[38;5;124m'\u001B[39m\u001B[38;5;124mCatBoost \u001B[39m\u001B[38;5;132;01m{\u001B[39;00mcatboost_ind\u001B[38;5;132;01m}\u001B[39;00m\u001B[38;5;124m is loaded from \u001B[39m\u001B[38;5;132;01m{\u001B[39;00mcur_catboost_name\u001B[38;5;132;01m}\u001B[39;00m\u001B[38;5;124m.\u001B[39m\u001B[38;5;124m'\u001B[39m)\n\u001B[0;32m     13\u001B[0m new_catboost_preds \u001B[38;5;241m=\u001B[39m new_catboost\u001B[38;5;241m.\u001B[39mpredict(inputs)\n",
      "File \u001B[1;32m~\\anaconda3\\envs\\yandex-shifts-weather\\lib\\site-packages\\catboost\\core.py:3015\u001B[0m, in \u001B[0;36mCatBoost.load_model\u001B[1;34m(self, fname, format, stream, blob)\u001B[0m\n\u001B[0;32m   3012\u001B[0m     \u001B[38;5;28;01mraise\u001B[39;00m CatBoostError(\u001B[38;5;124m\"\u001B[39m\u001B[38;5;124mExactly one of fname/stream/blob arguments mustn\u001B[39m\u001B[38;5;124m'\u001B[39m\u001B[38;5;124mt be None\u001B[39m\u001B[38;5;124m\"\u001B[39m)\n\u001B[0;32m   3014\u001B[0m \u001B[38;5;28;01mif\u001B[39;00m fname \u001B[38;5;129;01mis\u001B[39;00m \u001B[38;5;129;01mnot\u001B[39;00m \u001B[38;5;28;01mNone\u001B[39;00m:\n\u001B[1;32m-> 3015\u001B[0m     \u001B[38;5;28;43mself\u001B[39;49m\u001B[38;5;241;43m.\u001B[39;49m\u001B[43m_load_model\u001B[49m\u001B[43m(\u001B[49m\u001B[43mfname\u001B[49m\u001B[43m,\u001B[49m\u001B[43m \u001B[49m\u001B[38;5;28;43mformat\u001B[39;49m\u001B[43m)\u001B[49m\n\u001B[0;32m   3016\u001B[0m \u001B[38;5;28;01melif\u001B[39;00m stream \u001B[38;5;129;01mis\u001B[39;00m \u001B[38;5;129;01mnot\u001B[39;00m \u001B[38;5;28;01mNone\u001B[39;00m:\n\u001B[0;32m   3017\u001B[0m     \u001B[38;5;28mself\u001B[39m\u001B[38;5;241m.\u001B[39m_load_from_stream(stream)\n",
      "File \u001B[1;32m~\\anaconda3\\envs\\yandex-shifts-weather\\lib\\site-packages\\catboost\\core.py:1560\u001B[0m, in \u001B[0;36m_CatBoostBase._load_model\u001B[1;34m(self, model_file, format)\u001B[0m\n\u001B[0;32m   1557\u001B[0m \u001B[38;5;28;01mif\u001B[39;00m \u001B[38;5;129;01mnot\u001B[39;00m \u001B[38;5;28misinstance\u001B[39m(model_file, PATH_TYPES):\n\u001B[0;32m   1558\u001B[0m     \u001B[38;5;28;01mraise\u001B[39;00m CatBoostError(\u001B[38;5;124m\"\u001B[39m\u001B[38;5;124mInvalid fname type=\u001B[39m\u001B[38;5;132;01m{}\u001B[39;00m\u001B[38;5;124m: must be str() or pathlib.Path().\u001B[39m\u001B[38;5;124m\"\u001B[39m\u001B[38;5;241m.\u001B[39mformat(\u001B[38;5;28mtype\u001B[39m(model_file)))\n\u001B[1;32m-> 1560\u001B[0m \u001B[38;5;28;43mself\u001B[39;49m\u001B[38;5;241;43m.\u001B[39;49m\u001B[43m_object\u001B[49m\u001B[38;5;241;43m.\u001B[39;49m\u001B[43m_load_model\u001B[49m\u001B[43m(\u001B[49m\u001B[43mmodel_file\u001B[49m\u001B[43m,\u001B[49m\u001B[43m \u001B[49m\u001B[38;5;28;43mformat\u001B[39;49m\u001B[43m)\u001B[49m\n\u001B[0;32m   1561\u001B[0m \u001B[38;5;28mself\u001B[39m\u001B[38;5;241m.\u001B[39m_set_trained_model_attributes()\n\u001B[0;32m   1562\u001B[0m \u001B[38;5;28;01mfor\u001B[39;00m key, value \u001B[38;5;129;01min\u001B[39;00m iteritems(\u001B[38;5;28mself\u001B[39m\u001B[38;5;241m.\u001B[39m_get_params()):\n",
      "File \u001B[1;32m_catboost.pyx:4756\u001B[0m, in \u001B[0;36m_catboost._CatBoost._load_model\u001B[1;34m()\u001B[0m\n",
      "File \u001B[1;32m_catboost.pyx:4759\u001B[0m, in \u001B[0;36m_catboost._CatBoost._load_model\u001B[1;34m()\u001B[0m\n",
      "\u001B[1;31mCatBoostError\u001B[0m: C:/Program Files (x86)/Go Agent/pipelines/BuildMaster/catboost.git/catboost/libs/model/model_import_interface.h:19: Model file doesn't exist: models\\yandex-shifts\\weather-baseline-catboost\\seed1.cbm"
     ]
    }
   ],
   "source": [
    "if CATBOOST_EXISTS and os.path.isdir(baseline_model_dir):\n",
    "    catboost_ensemble_size = 10\n",
    "    all_catboost_preds = []\n",
    "    for catboost_ind in range(1, catboost_ensemble_size + 1):\n",
    "        new_catboost = CatBoostRegressor()\n",
    "        cur_catboost_name = os.path.join(\n",
    "            baseline_model_dir,\n",
    "            f'seed{catboost_ind}.cbm'\n",
    "        )\n",
    "        print(f'{cur_catboost_name} = {os.path.isfile(cur_catboost_name)}')\n",
    "        new_catboost.load_model(cur_catboost_name)\n",
    "        print(f'CatBoost {catboost_ind} is loaded from {cur_catboost_name}.')\n",
    "        new_catboost_preds = new_catboost.predict(inputs)\n",
    "        if not isinstance(new_catboost_preds, np.ndarray):\n",
    "            new_catboost_preds = np.asarray(new_catboost_preds)\n",
    "        all_catboost_preds.append(new_catboost_preds)\n",
    "        del new_catboost_preds, new_catboost\n",
    "        print(f'CatBoost {catboost_ind} predicts on devset.')\n",
    "        print('')\n",
    "    all_catboost_preds = np.stack(all_catboost_preds, axis=0)\n",
    "    all_uncertainty_catboost = ensemble_uncertainties_regression(all_catboost_preds)\n",
    "    catboost_uncertainties = all_uncertainty_catboost['tvar']\n",
    "    all_catboost_preds_mean = all_catboost_preds[:,:,0]\n",
    "    avg_catboost_preds = np.squeeze(np.mean(all_catboost_preds_mean, axis=0))\n",
    "    catboost_errors = (avg_catboost_preds - targets) ** 2\n",
    "    catboost_rejection_mse = calc_uncertainty_regection_curve(\n",
    "        catboost_errors,\n",
    "        catboost_uncertainties\n",
    "    )\n",
    "    catboost_rejection_mse = catboost_rejection_mse[::-1]\n",
    "    if len(retention_mse) != len(catboost_rejection_mse):\n",
    "        err_msg_ = f'Predictions of our models do not correspond ' \\\n",
    "                   f'to predictions of baseline models! ' \\\n",
    "                   f'{len(retention_mse)} != {len(catboost_rejection_mse)}'\n",
    "        raise ValueError(err_msg_)\n",
    "    print(f'R-AUC MSE of CatBoost Ens = {np.mean(catboost_rejection_mse)}.')\n",
    "else:\n",
    "    catboost_rejection_mse = None"
   ]
  },
  {
   "cell_type": "code",
   "execution_count": 176,
   "id": "c43ab567",
   "metadata": {},
   "outputs": [
    {
     "name": "stderr",
     "output_type": "stream",
     "text": [
      "No artists with labels found to put in legend.  Note that artists whose label start with an underscore are ignored when legend() is called with no argument.\n"
     ]
    },
    {
     "data": {
      "text/plain": "<Figure size 504x504 with 1 Axes>",
      "image/png": "[encoded data removed]"
     },
     "metadata": {
      "needs_background": "light"
     },
     "output_type": "display_data"
    },
    {
     "data": {
      "text/plain": "<Figure size 432x288 with 0 Axes>"
     },
     "metadata": {},
     "output_type": "display_data"
    }
   ],
   "source": [
    "catboost_rejection_mse = None\n",
    "plt.figure(new_figure_id, figsize=(7, 7))\n",
    "new_figure_id += 1\n",
    "if catboost_rejection_mse is None:\n",
    "    plt.plot([0, 1], [0, retention_mse[-1]], 'k--')\n",
    "    plt.plot(retention_fractions, retention_mse, linewidth=2)\n",
    "else:\n",
    "    last_mse = max(retention_mse[-1], catboost_rejection_mse[-1])\n",
    "    plt.plot(\n",
    "        [0, 1],\n",
    "        [0, last_mse],\n",
    "        'k--'\n",
    "    )\n",
    "    if last_mse > retention_mse[-1]:\n",
    "        plt.plot(\n",
    "            retention_fractions.tolist() + [retention_fractions[-1]],\n",
    "            retention_mse.tolist() + [last_mse],\n",
    "            color='red', linewidth=2, label='Our deep ensemble'\n",
    "        )\n",
    "    else:\n",
    "        plt.plot(\n",
    "            retention_fractions,\n",
    "            retention_mse,\n",
    "            color='red', linewidth=2, label='Our deep ensemble'\n",
    "        )\n",
    "    if last_mse > catboost_rejection_mse[-1]:\n",
    "        plt.plot(\n",
    "            retention_fractions,\n",
    "            catboost_rejection_mse,\n",
    "            color='blue', linewidth=2, label='CatBoost ensemble baseline'\n",
    "        )\n",
    "    else:\n",
    "        plt.plot(\n",
    "            retention_fractions.tolist() + [retention_fractions[-1]],\n",
    "            catboost_rejection_mse.tolist() + [last_mse],\n",
    "            color='blue', linewidth=2, label='CatBoost ensemble baseline'\n",
    "        )\n",
    "plt.ylabel('MSE')\n",
    "plt.xlabel('Retention Fraction')\n",
    "plt.grid()\n",
    "plt.legend(loc='best')\n",
    "plt.show()\n",
    "plt.clf()"
   ]
  },
  {
   "cell_type": "code",
   "execution_count": 177,
   "id": "36b96fed",
   "metadata": {},
   "outputs": [
    {
     "name": "stdout",
     "output_type": "stream",
     "text": [
      "F1 score at 95% retention: 0.9594984060603792\n"
     ]
    }
   ],
   "source": [
    "thresh = 1.0\n",
    "f_auc, f95, retention_f1 = f_beta_metrics(errors, uncertainties, thresh, beta=1.0)\n",
    "print(f'F1 score at 95% retention: {f95}')\n",
    "retention_fractions = np.linspace(0, 1, len(retention_f1))"
   ]
  },
  {
   "cell_type": "code",
   "execution_count": 178,
   "id": "477fa3d3",
   "metadata": {},
   "outputs": [
    {
     "data": {
      "text/plain": "<Figure size 504x504 with 1 Axes>",
      "image/png": "[encoded data removed]"
     },
     "metadata": {
      "needs_background": "light"
     },
     "output_type": "display_data"
    },
    {
     "data": {
      "text/plain": "<Figure size 432x288 with 0 Axes>"
     },
     "metadata": {},
     "output_type": "display_data"
    }
   ],
   "source": [
    "plt.figure(new_figure_id, figsize=(7, 7))\n",
    "new_figure_id += 1\n",
    "plt.plot(retention_fractions, retention_f1)\n",
    "plt.ylabel('F1')\n",
    "plt.xlabel('Retention Fraction')\n",
    "plt.show()\n",
    "plt.clf()"
   ]
  },
  {
   "cell_type": "code",
   "execution_count": 179,
   "id": "79377b79",
   "metadata": {},
   "outputs": [],
   "source": [
    "ids = np.arange(1, inputs.shape[0] + 1)\n",
    "preds = np.mean(all_preds[:,:,0], axis=0)\n",
    "df_submission = pd.DataFrame(data={\n",
    "    'ID' : ids,\n",
    "    'PRED' : preds,\n",
    "    'UNCERTAINTY' : uncertainties\n",
    "})"
   ]
  },
  {
   "cell_type": "code",
   "execution_count": 180,
   "id": "92b3b77a",
   "metadata": {},
   "outputs": [
    {
     "data": {
      "text/plain": "   ID      PRED  UNCERTAINTY\n0   1  0.165288    11.935573\n1   2  0.165288    11.935573\n2   3  0.165288    11.935573\n3   4  0.165288    11.935573\n4   5  0.165288    11.935573",
      "text/html": "<div>\n<style scoped>\n    .dataframe tbody tr th:only-of-type {\n        vertical-align: middle;\n    }\n\n    .dataframe tbody tr th {\n        vertical-align: top;\n    }\n\n    .dataframe thead th {\n        text-align: right;\n    }\n</style>\n<table border=\"1\" class=\"dataframe\">\n  <thead>\n    <tr style=\"text-align: right;\">\n      <th></th>\n      <th>ID</th>\n      <th>PRED</th>\n      <th>UNCERTAINTY</th>\n    </tr>\n  </thead>\n  <tbody>\n    <tr>\n      <th>0</th>\n      <td>1</td>\n      <td>0.165288</td>\n      <td>11.935573</td>\n    </tr>\n    <tr>\n      <th>1</th>\n      <td>2</td>\n      <td>0.165288</td>\n      <td>11.935573</td>\n    </tr>\n    <tr>\n      <th>2</th>\n      <td>3</td>\n      <td>0.165288</td>\n      <td>11.935573</td>\n    </tr>\n    <tr>\n      <th>3</th>\n      <td>4</td>\n      <td>0.165288</td>\n      <td>11.935573</td>\n    </tr>\n    <tr>\n      <th>4</th>\n      <td>5</td>\n      <td>0.165288</td>\n      <td>11.935573</td>\n    </tr>\n  </tbody>\n</table>\n</div>"
     },
     "execution_count": 180,
     "metadata": {},
     "output_type": "execute_result"
    }
   ],
   "source": [
    "df_submission.head()"
   ]
  },
  {
   "cell_type": "code",
   "execution_count": 182,
   "id": "16843244",
   "metadata": {},
   "outputs": [],
   "source": [
    "out_file = os.path.join(model_dir, 'df_submission_dev.csv')\n",
    "df_submission.to_csv(out_file, index=False)"
   ]
  },
  {
   "cell_type": "code",
   "execution_count": 184,
   "id": "7632803b",
   "metadata": {},
   "outputs": [
    {
     "data": {
      "text/plain": "                                         10_metre_u_wind_component  \\\ntime                lat       lon                                    \n2018-01-29 03:00:00 34.641532 10.203631                        0.0   \n                              10.223593                        0.0   \n                              10.243556                        0.0   \n                              10.263518                        0.0   \n                              10.283480                        0.0   \n\n                                         10_metre_v_wind_component  \\\ntime                lat       lon                                    \n2018-01-29 03:00:00 34.641532 10.203631                        0.0   \n                              10.223593                        0.0   \n                              10.243556                        0.0   \n                              10.263518                        0.0   \n                              10.283480                        0.0   \n\n                                         2_metre_temperature  evaporation  \\\ntime                lat       lon                                           \n2018-01-29 03:00:00 34.641532 10.203631                  0.0          0.0   \n                              10.223593                  0.0          0.0   \n                              10.243556                  0.0          0.0   \n                              10.263518                  0.0          0.0   \n                              10.283480                  0.0          0.0   \n\n                                         latent_heat_flux  \\\ntime                lat       lon                           \n2018-01-29 03:00:00 34.641532 10.203631               0.0   \n                              10.223593               0.0   \n                              10.243556               0.0   \n                              10.263518               0.0   \n                              10.283480               0.0   \n\n                                         mean_sea_level_pressure  \\\ntime                lat       lon                                  \n2018-01-29 03:00:00 34.641532 10.203631                      0.0   \n                              10.223593                      0.0   \n                              10.243556                      0.0   \n                              10.263518                      0.0   \n                              10.283480                      0.0   \n\n                                         sensible_heat_flux  \\\ntime                lat       lon                             \n2018-01-29 03:00:00 34.641532 10.203631                 0.0   \n                              10.223593                 0.0   \n                              10.243556                 0.0   \n                              10.263518                 0.0   \n                              10.283480                 0.0   \n\n                                         specific_humidity  temperature  \\\ntime                lat       lon                                         \n2018-01-29 03:00:00 34.641532 10.203631                0.0          0.0   \n                              10.223593                0.0          0.0   \n                              10.243556                0.0          0.0   \n                              10.263518                0.0          0.0   \n                              10.283480                0.0          0.0   \n\n                                         total_cloud_cover  \\\ntime                lat       lon                            \n2018-01-29 03:00:00 34.641532 10.203631                0.0   \n                              10.223593                0.0   \n                              10.243556                0.0   \n                              10.263518                0.0   \n                              10.283480                0.0   \n\n                                         total_precipitation  \\\ntime                lat       lon                              \n2018-01-29 03:00:00 34.641532 10.203631                  0.0   \n                              10.223593                  0.0   \n                              10.243556                  0.0   \n                              10.263518                  0.0   \n                              10.283480                  0.0   \n\n                                         u_component_of_wind_h120  \\\ntime                lat       lon                                   \n2018-01-29 03:00:00 34.641532 10.203631                       0.0   \n                              10.223593                       0.0   \n                              10.243556                       0.0   \n                              10.263518                       0.0   \n                              10.283480                       0.0   \n\n                                         u_component_of_wind_h180  \\\ntime                lat       lon                                   \n2018-01-29 03:00:00 34.641532 10.203631                       0.0   \n                              10.223593                       0.0   \n                              10.243556                       0.0   \n                              10.263518                       0.0   \n                              10.283480                       0.0   \n\n                                         u_component_of_wind_h40  \\\ntime                lat       lon                                  \n2018-01-29 03:00:00 34.641532 10.203631                      0.0   \n                              10.223593                      0.0   \n                              10.243556                      0.0   \n                              10.263518                      0.0   \n                              10.283480                      0.0   \n\n                                         u_component_of_wind_h80  unknown  \\\ntime                lat       lon                                           \n2018-01-29 03:00:00 34.641532 10.203631                      0.0      0.0   \n                              10.223593                      0.0      0.0   \n                              10.243556                      0.0      0.0   \n                              10.263518                      0.0      0.0   \n                              10.283480                      0.0      0.0   \n\n                                         v_component_of_wind_h120  \\\ntime                lat       lon                                   \n2018-01-29 03:00:00 34.641532 10.203631                       0.0   \n                              10.223593                       0.0   \n                              10.243556                       0.0   \n                              10.263518                       0.0   \n                              10.283480                       0.0   \n\n                                         v_component_of_wind_h180  \\\ntime                lat       lon                                   \n2018-01-29 03:00:00 34.641532 10.203631                       0.0   \n                              10.223593                       0.0   \n                              10.243556                       0.0   \n                              10.263518                       0.0   \n                              10.283480                       0.0   \n\n                                         v_component_of_wind_h40  \\\ntime                lat       lon                                  \n2018-01-29 03:00:00 34.641532 10.203631                      0.0   \n                              10.223593                      0.0   \n                              10.243556                      0.0   \n                              10.263518                      0.0   \n                              10.283480                      0.0   \n\n                                         v_component_of_wind_h80  \ntime                lat       lon                                 \n2018-01-29 03:00:00 34.641532 10.203631                      0.0  \n                              10.223593                      0.0  \n                              10.243556                      0.0  \n                              10.263518                      0.0  \n                              10.283480                      0.0  ",
      "text/html": "<div>\n<style scoped>\n    .dataframe tbody tr th:only-of-type {\n        vertical-align: middle;\n    }\n\n    .dataframe tbody tr th {\n        vertical-align: top;\n    }\n\n    .dataframe thead th {\n        text-align: right;\n    }\n</style>\n<table border=\"1\" class=\"dataframe\">\n  <thead>\n    <tr style=\"text-align: right;\">\n      <th></th>\n      <th></th>\n      <th></th>\n      <th>10_metre_u_wind_component</th>\n      <th>10_metre_v_wind_component</th>\n      <th>2_metre_temperature</th>\n      <th>evaporation</th>\n      <th>latent_heat_flux</th>\n      <th>mean_sea_level_pressure</th>\n      <th>sensible_heat_flux</th>\n      <th>specific_humidity</th>\n      <th>temperature</th>\n      <th>total_cloud_cover</th>\n      <th>total_precipitation</th>\n      <th>u_component_of_wind_h120</th>\n      <th>u_component_of_wind_h180</th>\n      <th>u_component_of_wind_h40</th>\n      <th>u_component_of_wind_h80</th>\n      <th>unknown</th>\n      <th>v_component_of_wind_h120</th>\n      <th>v_component_of_wind_h180</th>\n      <th>v_component_of_wind_h40</th>\n      <th>v_component_of_wind_h80</th>\n    </tr>\n    <tr>\n      <th>time</th>\n      <th>lat</th>\n      <th>lon</th>\n      <th></th>\n      <th></th>\n      <th></th>\n      <th></th>\n      <th></th>\n      <th></th>\n      <th></th>\n      <th></th>\n      <th></th>\n      <th></th>\n      <th></th>\n      <th></th>\n      <th></th>\n      <th></th>\n      <th></th>\n      <th></th>\n      <th></th>\n      <th></th>\n      <th></th>\n      <th></th>\n    </tr>\n  </thead>\n  <tbody>\n    <tr>\n      <th rowspan=\"5\" valign=\"top\">2018-01-29 03:00:00</th>\n      <th rowspan=\"5\" valign=\"top\">34.641532</th>\n      <th>10.203631</th>\n      <td>0.0</td>\n      <td>0.0</td>\n      <td>0.0</td>\n      <td>0.0</td>\n      <td>0.0</td>\n      <td>0.0</td>\n      <td>0.0</td>\n      <td>0.0</td>\n      <td>0.0</td>\n      <td>0.0</td>\n      <td>0.0</td>\n      <td>0.0</td>\n      <td>0.0</td>\n      <td>0.0</td>\n      <td>0.0</td>\n      <td>0.0</td>\n      <td>0.0</td>\n      <td>0.0</td>\n      <td>0.0</td>\n      <td>0.0</td>\n    </tr>\n    <tr>\n      <th>10.223593</th>\n      <td>0.0</td>\n      <td>0.0</td>\n      <td>0.0</td>\n      <td>0.0</td>\n      <td>0.0</td>\n      <td>0.0</td>\n      <td>0.0</td>\n      <td>0.0</td>\n      <td>0.0</td>\n      <td>0.0</td>\n      <td>0.0</td>\n      <td>0.0</td>\n      <td>0.0</td>\n      <td>0.0</td>\n      <td>0.0</td>\n      <td>0.0</td>\n      <td>0.0</td>\n      <td>0.0</td>\n      <td>0.0</td>\n      <td>0.0</td>\n    </tr>\n    <tr>\n      <th>10.243556</th>\n      <td>0.0</td>\n      <td>0.0</td>\n      <td>0.0</td>\n      <td>0.0</td>\n      <td>0.0</td>\n      <td>0.0</td>\n      <td>0.0</td>\n      <td>0.0</td>\n      <td>0.0</td>\n      <td>0.0</td>\n      <td>0.0</td>\n      <td>0.0</td>\n      <td>0.0</td>\n      <td>0.0</td>\n      <td>0.0</td>\n      <td>0.0</td>\n      <td>0.0</td>\n      <td>0.0</td>\n      <td>0.0</td>\n      <td>0.0</td>\n    </tr>\n    <tr>\n      <th>10.263518</th>\n      <td>0.0</td>\n      <td>0.0</td>\n      <td>0.0</td>\n      <td>0.0</td>\n      <td>0.0</td>\n      <td>0.0</td>\n      <td>0.0</td>\n      <td>0.0</td>\n      <td>0.0</td>\n      <td>0.0</td>\n      <td>0.0</td>\n      <td>0.0</td>\n      <td>0.0</td>\n      <td>0.0</td>\n      <td>0.0</td>\n      <td>0.0</td>\n      <td>0.0</td>\n      <td>0.0</td>\n      <td>0.0</td>\n      <td>0.0</td>\n    </tr>\n    <tr>\n      <th>10.283480</th>\n      <td>0.0</td>\n      <td>0.0</td>\n      <td>0.0</td>\n      <td>0.0</td>\n      <td>0.0</td>\n      <td>0.0</td>\n      <td>0.0</td>\n      <td>0.0</td>\n      <td>0.0</td>\n      <td>0.0</td>\n      <td>0.0</td>\n      <td>0.0</td>\n      <td>0.0</td>\n      <td>0.0</td>\n      <td>0.0</td>\n      <td>0.0</td>\n      <td>0.0</td>\n      <td>0.0</td>\n      <td>0.0</td>\n      <td>0.0</td>\n    </tr>\n  </tbody>\n</table>\n</div>"
     },
     "execution_count": 184,
     "metadata": {},
     "output_type": "execute_result"
    }
   ],
   "source": [
    "df_eval = xr.open_zarr(eval_name).to_dataframe().fillna(0)\n",
    "df_eval.head()"
   ]
  },
  {
   "cell_type": "code",
   "execution_count": 185,
   "id": "c719d2b3",
   "metadata": {},
   "outputs": [],
   "source": [
    "eval_inputs = df_eval.to_numpy().astype(np.float64)"
   ]
  },
  {
   "cell_type": "code",
   "execution_count": 186,
   "id": "84e3c4ae",
   "metadata": {},
   "outputs": [
    {
     "name": "stdout",
     "output_type": "stream",
     "text": [
      "The system predicts each sample from evalset in 0.455 msecs.\n"
     ]
    }
   ],
   "source": [
    "start_inference_time = time.time()\n",
    "all_preds = predict_by_ensemble(\n",
    "    input_data=eval_inputs,\n",
    "    preprocessing=common_preprocessor,\n",
    "    postprocessing=postprocessing_scalers,\n",
    "    ensemble=deep_ensemble,\n",
    "    minibatch=BATCH_SIZE\n",
    ")\n",
    "end_inference_time = time.time()\n",
    "inference_duration = end_inference_time - start_inference_time\n",
    "inference_duration *= 1000.0\n",
    "print('The system predicts each sample from evalset in ' \\\n",
    "      '{0:.3f} msecs.'.format(inference_duration / eval_inputs.shape[0]))"
   ]
  },
  {
   "cell_type": "code",
   "execution_count": 187,
   "id": "b6bd2690",
   "metadata": {},
   "outputs": [],
   "source": [
    "all_uncertainty = ensemble_uncertainties_regression(all_preds)\n",
    "uncertainties = all_uncertainty['tvar']"
   ]
  },
  {
   "cell_type": "code",
   "execution_count": 200,
   "id": "f999a9a2",
   "metadata": {},
   "outputs": [
    {
     "data": {
      "text/plain": "            ID      PRED  UNCERTAINTY\n0            1  0.165288    11.935573\n1            2  0.165288    11.935573\n2            3  0.165288    11.935573\n3            4  0.165288    11.935573\n4            5  0.165288    11.935573\n...        ...       ...          ...\n972757  972758  0.165288    11.935573\n972758  972759  0.165288    11.935573\n972759  972760  0.165288    11.935573\n972760  972761  0.165288    11.935572\n972761  972762  0.165288    11.935572\n\n[972762 rows x 3 columns]",
      "text/html": "<div>\n<style scoped>\n    .dataframe tbody tr th:only-of-type {\n        vertical-align: middle;\n    }\n\n    .dataframe tbody tr th {\n        vertical-align: top;\n    }\n\n    .dataframe thead th {\n        text-align: right;\n    }\n</style>\n<table border=\"1\" class=\"dataframe\">\n  <thead>\n    <tr style=\"text-align: right;\">\n      <th></th>\n      <th>ID</th>\n      <th>PRED</th>\n      <th>UNCERTAINTY</th>\n    </tr>\n  </thead>\n  <tbody>\n    <tr>\n      <th>0</th>\n      <td>1</td>\n      <td>0.165288</td>\n      <td>11.935573</td>\n    </tr>\n    <tr>\n      <th>1</th>\n      <td>2</td>\n      <td>0.165288</td>\n      <td>11.935573</td>\n    </tr>\n    <tr>\n      <th>2</th>\n      <td>3</td>\n      <td>0.165288</td>\n      <td>11.935573</td>\n    </tr>\n    <tr>\n      <th>3</th>\n      <td>4</td>\n      <td>0.165288</td>\n      <td>11.935573</td>\n    </tr>\n    <tr>\n      <th>4</th>\n      <td>5</td>\n      <td>0.165288</td>\n      <td>11.935573</td>\n    </tr>\n    <tr>\n      <th>...</th>\n      <td>...</td>\n      <td>...</td>\n      <td>...</td>\n    </tr>\n    <tr>\n      <th>972757</th>\n      <td>972758</td>\n      <td>0.165288</td>\n      <td>11.935573</td>\n    </tr>\n    <tr>\n      <th>972758</th>\n      <td>972759</td>\n      <td>0.165288</td>\n      <td>11.935573</td>\n    </tr>\n    <tr>\n      <th>972759</th>\n      <td>972760</td>\n      <td>0.165288</td>\n      <td>11.935573</td>\n    </tr>\n    <tr>\n      <th>972760</th>\n      <td>972761</td>\n      <td>0.165288</td>\n      <td>11.935572</td>\n    </tr>\n    <tr>\n      <th>972761</th>\n      <td>972762</td>\n      <td>0.165288</td>\n      <td>11.935572</td>\n    </tr>\n  </tbody>\n</table>\n<p>972762 rows × 3 columns</p>\n</div>"
     },
     "execution_count": 200,
     "metadata": {},
     "output_type": "execute_result"
    }
   ],
   "source": [
    "ids = np.arange(1, len(df_eval) + 1)\n",
    "preds = np.mean(all_preds[:,:,0], axis=0)\n",
    "df_submission = pd.DataFrame(data={\n",
    "    'ID' : ids,\n",
    "    'PRED' : preds,\n",
    "    'UNCERTAINTY' : uncertainties\n",
    "})\n",
    "df_submission"
   ]
  },
  {
   "cell_type": "code",
   "execution_count": 222,
   "outputs": [],
   "source": [
    "eval_output= xr.open_zarr(eval_output_name).to_dataframe().fillna(0)\n",
    "eval_output= eval_output[['S']]"
   ],
   "metadata": {
    "collapsed": false,
    "pycharm": {
     "name": "#%%\n"
    }
   }
  },
  {
   "cell_type": "code",
   "execution_count": 190,
   "id": "20748bdc",
   "metadata": {},
   "outputs": [],
   "source": [
    "out_file = os.path.join(model_dir, 'df_submission.csv')\n",
    "df_submission.to_csv(out_file, index=False)"
   ]
  },
  {
   "cell_type": "code",
   "execution_count": 198,
   "outputs": [],
   "source": [],
   "metadata": {
    "collapsed": false,
    "pycharm": {
     "name": "#%%\n"
    }
   }
  },
  {
   "cell_type": "code",
   "execution_count": 223,
   "outputs": [],
   "source": [
    "eval_output['pred']= preds\n",
    "eval_output['uncertainty']= uncertainties"
   ],
   "metadata": {
    "collapsed": false,
    "pycharm": {
     "name": "#%%\n"
    }
   }
  },
  {
   "cell_type": "code",
   "execution_count": 224,
   "outputs": [
    {
     "data": {
      "text/plain": "                                           S      pred  uncertainty\ntime                lat       lon                                  \n2018-01-29 03:00:00 34.641532 10.203631  0.0  0.165288    11.935573\n                              10.223593  0.0  0.165288    11.935573\n                              10.243556  0.0  0.165288    11.935573\n                              10.263518  0.0  0.165288    11.935573\n                              10.283480  0.0  0.165288    11.935573\n...                                      ...       ...          ...\n2018-01-31 23:00:00 32.545494 12.758801  0.0  0.165288    11.935573\n                              12.778763  0.0  0.165288    11.935573\n                              12.798726  0.0  0.165288    11.935573\n                              12.818688  0.0  0.165288    11.935572\n                              12.838650  0.0  0.165288    11.935572\n\n[972762 rows x 3 columns]",
      "text/html": "<div>\n<style scoped>\n    .dataframe tbody tr th:only-of-type {\n        vertical-align: middle;\n    }\n\n    .dataframe tbody tr th {\n        vertical-align: top;\n    }\n\n    .dataframe thead th {\n        text-align: right;\n    }\n</style>\n<table border=\"1\" class=\"dataframe\">\n  <thead>\n    <tr style=\"text-align: right;\">\n      <th></th>\n      <th></th>\n      <th></th>\n      <th>S</th>\n      <th>pred</th>\n      <th>uncertainty</th>\n    </tr>\n    <tr>\n      <th>time</th>\n      <th>lat</th>\n      <th>lon</th>\n      <th></th>\n      <th></th>\n      <th></th>\n    </tr>\n  </thead>\n  <tbody>\n    <tr>\n      <th rowspan=\"5\" valign=\"top\">2018-01-29 03:00:00</th>\n      <th rowspan=\"5\" valign=\"top\">34.641532</th>\n      <th>10.203631</th>\n      <td>0.0</td>\n      <td>0.165288</td>\n      <td>11.935573</td>\n    </tr>\n    <tr>\n      <th>10.223593</th>\n      <td>0.0</td>\n      <td>0.165288</td>\n      <td>11.935573</td>\n    </tr>\n    <tr>\n      <th>10.243556</th>\n      <td>0.0</td>\n      <td>0.165288</td>\n      <td>11.935573</td>\n    </tr>\n    <tr>\n      <th>10.263518</th>\n      <td>0.0</td>\n      <td>0.165288</td>\n      <td>11.935573</td>\n    </tr>\n    <tr>\n      <th>10.283480</th>\n      <td>0.0</td>\n      <td>0.165288</td>\n      <td>11.935573</td>\n    </tr>\n    <tr>\n      <th>...</th>\n      <th>...</th>\n      <th>...</th>\n      <td>...</td>\n      <td>...</td>\n      <td>...</td>\n    </tr>\n    <tr>\n      <th rowspan=\"5\" valign=\"top\">2018-01-31 23:00:00</th>\n      <th rowspan=\"5\" valign=\"top\">32.545494</th>\n      <th>12.758801</th>\n      <td>0.0</td>\n      <td>0.165288</td>\n      <td>11.935573</td>\n    </tr>\n    <tr>\n      <th>12.778763</th>\n      <td>0.0</td>\n      <td>0.165288</td>\n      <td>11.935573</td>\n    </tr>\n    <tr>\n      <th>12.798726</th>\n      <td>0.0</td>\n      <td>0.165288</td>\n      <td>11.935573</td>\n    </tr>\n    <tr>\n      <th>12.818688</th>\n      <td>0.0</td>\n      <td>0.165288</td>\n      <td>11.935572</td>\n    </tr>\n    <tr>\n      <th>12.838650</th>\n      <td>0.0</td>\n      <td>0.165288</td>\n      <td>11.935572</td>\n    </tr>\n  </tbody>\n</table>\n<p>972762 rows × 3 columns</p>\n</div>"
     },
     "execution_count": 224,
     "metadata": {},
     "output_type": "execute_result"
    }
   ],
   "source": [
    "eval_output"
   ],
   "metadata": {
    "collapsed": false,
    "pycharm": {
     "name": "#%%\n"
    }
   }
  },
  {
   "cell_type": "code",
   "execution_count": 225,
   "outputs": [],
   "source": [
    "from sklearn.metrics import mean_squared_error\n",
    "from sklearn.metrics import explained_variance_score\n",
    "MSE = mean_squared_error(y_true = eval_output['S'], y_pred = eval_output['pred'])"
   ],
   "metadata": {
    "collapsed": false,
    "pycharm": {
     "name": "#%%\n"
    }
   }
  },
  {
   "cell_type": "code",
   "execution_count": 226,
   "outputs": [
    {
     "data": {
      "text/plain": "29.84667134435091"
     },
     "execution_count": 226,
     "metadata": {},
     "output_type": "execute_result"
    }
   ],
   "source": [
    "MSE"
   ],
   "metadata": {
    "collapsed": false,
    "pycharm": {
     "name": "#%%\n"
    }
   }
  },
  {
   "cell_type": "code",
   "execution_count": null,
   "outputs": [],
   "source": [],
   "metadata": {
    "collapsed": false,
    "pycharm": {
     "name": "#%%\n"
    }
   }
  }
 ],
 "metadata": {
  "kernelspec": {
   "display_name": "Python 3",
   "language": "python",
   "name": "python3"
  },
  "language_info": {
   "codemirror_mode": {
    "name": "ipython",
    "version": 3
   },
   "file_extension": ".py",
   "mimetype": "text/x-python",
   "name": "python",
   "nbconvert_exporter": "python",
   "pygments_lexer": "ipython3",
   "version": "3.7.6"
  }
 },
 "nbformat": 4,
 "nbformat_minor": 5
}